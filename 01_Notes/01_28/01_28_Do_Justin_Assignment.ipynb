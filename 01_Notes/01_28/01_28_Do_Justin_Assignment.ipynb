{
 "cells": [
  {
   "metadata": {},
   "cell_type": "markdown",
   "source": [
    "# Data Collection Assigment 1\n",
    "\n",
    "---\n",
    "\n",
    "1) from my understanding you go from right to left calculating the results:\n",
    "10 + 14 * 2 = 10 + 24 = 34\n",
    "2) Post fix expression is a different way to write down a normal expression expression like 3 + 4 would be written as 3 4 + (the operator will be add the end)\n",
    "3) An example, input: 5 3 + 8 2 - *\n",
    "4) output: 48 (Basically it is (5 + 3) * (8 - 2) = 48)\n",
    "5) +-*/^%"
   ],
   "id": "17d74e0069b15734"
  },
  {
   "metadata": {},
   "cell_type": "markdown",
   "source": "# 1) Postfix expression",
   "id": "118830818c32885b"
  },
  {
   "cell_type": "code",
   "id": "initial_id",
   "metadata": {
    "collapsed": true,
    "ExecuteTime": {
     "end_time": "2025-01-29T02:01:06.159975Z",
     "start_time": "2025-01-29T02:01:06.151114Z"
    }
   },
   "source": [
    "# Create a new empty list (values)\n",
    "values = '5 3 + 8 2 - *'.split(' ')     # (5+3) * (8-2) = 48\n",
    "symbols = '+ - * / ^ %'.split(' ')\n",
    "# We need to use a separate (answer) array because if we keep updating values\n",
    "# the loop will never end \n",
    "# Mainly because we're using the (for val in values) statement\n",
    "answer = []\n",
    "# For each token in the postfix expression \n",
    "for val in values:\n",
    "    # If the token is a number \n",
    "    if val not in symbols:\n",
    "        # Convert to integer and add to the end ov values\n",
    "        answer.append(int(val))\n",
    "    else:\n",
    "        # Remove an item from the end of values and call it right\n",
    "        right = answer.pop()\n",
    "        # Remove an item from the end of values and call it left\n",
    "        left = answer.pop()\n",
    "        # Apply operator to left and right & append to end of values\n",
    "        if val == '+':\n",
    "            answer.append(left + right)\n",
    "        elif val == '-':\n",
    "            answer.append(left - right)\n",
    "        elif val == '*':\n",
    "            answer.append(left * right)\n",
    "        elif val == '/':\n",
    "            answer.append(left / right)\n",
    "        elif val == '^':\n",
    "            answer.append(left ** right)\n",
    "        elif val == '%':\n",
    "            answer.append(left % right)\n",
    "print(answer[0])"
   ],
   "outputs": [
    {
     "name": "stdout",
     "output_type": "stream",
     "text": [
      "48\n"
     ]
    }
   ],
   "execution_count": 18
  },
  {
   "metadata": {},
   "cell_type": "markdown",
   "source": "# 2) User Integers Sorted (Repeated Question)",
   "id": "b118b1d4faa66c11"
  },
  {
   "metadata": {
    "ExecuteTime": {
     "end_time": "2025-01-29T02:01:21.345911Z",
     "start_time": "2025-01-29T02:01:06.306221Z"
    }
   },
   "cell_type": "code",
   "source": [
    "# We're using the while loop until the user enters 0 \n",
    "user_numbers = [] \n",
    "while True:\n",
    "    # Remember to have our input as an integer NOT A STRING\n",
    "    user_input = int(input('Number: '))\n",
    "    # Break case \n",
    "    if user_input == 0:\n",
    "        # This way we don't include the 0 \n",
    "        break\n",
    "    else:\n",
    "        user_numbers.append(user_input)\n",
    "\n",
    "# Doesn't print anything we need to run the function then print the original list\n",
    "# print(user_numbers.sort())\n",
    "user_numbers.sort() \n",
    "# One value on each line \n",
    "for num in user_numbers:\n",
    "    print(num)"
   ],
   "id": "446b681b6a9d7034",
   "outputs": [
    {
     "name": "stdout",
     "output_type": "stream",
     "text": [
      "5\n",
      "10\n",
      "15\n",
      "20\n",
      "49\n"
     ]
    }
   ],
   "execution_count": 19
  },
  {
   "metadata": {},
   "cell_type": "markdown",
   "source": "# Grouping numbers until blank (Repeated Question)",
   "id": "c3388fa1e54e82ff"
  },
  {
   "metadata": {
    "ExecuteTime": {
     "end_time": "2025-01-29T02:01:32.071929Z",
     "start_time": "2025-01-29T02:01:21.346926Z"
    }
   },
   "cell_type": "code",
   "source": [
    "# Because it should display all the negative, zeros and positive numbers \n",
    "# My approach would be using 3 lists to categorize these \n",
    "# Mainly because it should keep the order they enter \n",
    "neg = []\n",
    "zero = []\n",
    "pos = [] \n",
    "\n",
    "while True:\n",
    "    user_input = input('Number: ')\n",
    "    if user_input:\n",
    "        # Meaning it's not blank then we change it to an int\n",
    "        user_input = int(user_input)\n",
    "    else:\n",
    "        # Empty space \n",
    "        break \n",
    "    \n",
    "    # Now we append based on category \n",
    "    if user_input < 0:\n",
    "        # Negative numbers \n",
    "        neg.append(user_input)\n",
    "    elif user_input == 0:\n",
    "        # Zero numbers\n",
    "        zero.append(user_input)\n",
    "    elif user_input > 0:\n",
    "        # Positive numbers \n",
    "        pos.append(user_input)\n",
    "\n",
    "combined_list = neg + zero + pos \n",
    "\n",
    "# Displaying each value on its own line \n",
    "for val in combined_list:\n",
    "    print(val)\n"
   ],
   "id": "7c23e9d9d2230f68",
   "outputs": [
    {
     "name": "stdout",
     "output_type": "stream",
     "text": [
      "-4\n",
      "-1\n",
      "-2\n",
      "0\n",
      "0\n",
      "3\n",
      "1\n"
     ]
    }
   ],
   "execution_count": 20
  },
  {
   "metadata": {},
   "cell_type": "markdown",
   "source": "# 4) Reads words from user until Blank",
   "id": "d4b5f8145ec00aae"
  },
  {
   "metadata": {
    "ExecuteTime": {
     "end_time": "2025-01-29T02:03:38.334355Z",
     "start_time": "2025-01-29T02:03:24.040956Z"
    }
   },
   "cell_type": "code",
   "source": [
    "# Storing all users words\n",
    "# Also only adding words that don't exist within the list\n",
    "user_words = [] \n",
    "\n",
    "while True:\n",
    "    user_input = input('Word: ')\n",
    "    # Break case\n",
    "    if user_input:\n",
    "        # Checking if word was already said \n",
    "        if user_input not in user_words:\n",
    "            user_words.append(user_input)\n",
    "    else:\n",
    "        # User entered a blank\n",
    "        break\n",
    "\n",
    "# Displaying single line \n",
    "for word in user_words:\n",
    "    print(word)"
   ],
   "id": "414bd7831a8de531",
   "outputs": [
    {
     "name": "stdout",
     "output_type": "stream",
     "text": [
      "first\n",
      "second\n",
      "third\n"
     ]
    }
   ],
   "execution_count": 38
  },
  {
   "metadata": {},
   "cell_type": "markdown",
   "source": [
    "# 5) Implement queue **FIFO** principle \n",
    "\n",
    "First in first out \n",
    "- First Come First serve basis so we just need to remove the value on the left \n",
    "- **Queue**"
   ],
   "id": "12773d4d9f324708"
  },
  {
   "metadata": {
    "ExecuteTime": {
     "end_time": "2025-01-29T02:01:57.094308Z",
     "start_time": "2025-01-29T02:01:57.088260Z"
    }
   },
   "cell_type": "code",
   "source": [
    "# Let's use a bank line for instance\n",
    "bank_queue = 'Thy Justin Jason Muffin Logan Jacob Blu Snow'.split(' ')\n",
    "\n",
    "def bank_serve_people():\n",
    "    # Logic here\n",
    "    # Pop from the left side shows the FIFO Principle \n",
    "    person_to_serve = bank_queue.pop(0)\n",
    "    print('Serving: ', person_to_serve)\n",
    "\n",
    "# While the queue still have people\n",
    "while len(bank_queue) >= 1:\n",
    "    # Serve them\n",
    "    bank_serve_people()"
   ],
   "id": "9577ec01c3ae81eb",
   "outputs": [
    {
     "name": "stdout",
     "output_type": "stream",
     "text": [
      "Serving:  Thy\n",
      "Serving:  Justin\n",
      "Serving:  Jason\n",
      "Serving:  Muffin\n",
      "Serving:  Logan\n",
      "Serving:  Jacob\n",
      "Serving:  Blu\n",
      "Serving:  Snow\n"
     ]
    }
   ],
   "execution_count": 22
  },
  {
   "metadata": {},
   "cell_type": "markdown",
   "source": [
    "# 6) Implement stack LIFO principle\n",
    "\n",
    "Last In First Out\n",
    "- Is a stack think of a coin pouch the **last** coin in is the **first** coin out \n",
    "- we could use the regular `pop()` function at the end"
   ],
   "id": "4f4a0443fdfb6167"
  },
  {
   "metadata": {
    "ExecuteTime": {
     "end_time": "2025-01-29T02:01:57.107676Z",
     "start_time": "2025-01-29T02:01:57.095276Z"
    }
   },
   "cell_type": "code",
   "source": [
    "# Let's use a coin stash\n",
    "coin_stash = [5,25,10,5,50,25,5]\n",
    "\n",
    "def emptying_coin_stash():\n",
    "    # Logic here\n",
    "    # Pop from the right side shows the LIFO Principle \n",
    "    coin = coin_stash.pop()\n",
    "    print('Coin: ', coin)\n",
    "\n",
    "# While the stack still have coins\n",
    "while len(coin_stash) >= 1:\n",
    "    # Serve them\n",
    "    emptying_coin_stash()"
   ],
   "id": "109ecfa7d807881d",
   "outputs": [
    {
     "name": "stdout",
     "output_type": "stream",
     "text": [
      "Coin:  5\n",
      "Coin:  25\n",
      "Coin:  50\n",
      "Coin:  5\n",
      "Coin:  10\n",
      "Coin:  25\n",
      "Coin:  5\n"
     ]
    }
   ],
   "execution_count": 23
  },
  {
   "metadata": {},
   "cell_type": "markdown",
   "source": [
    "# 7) Hyphen-Separated Sequence of Words\n",
    "\n",
    "Sort them alphabetically"
   ],
   "id": "dee5d2a0153369a9"
  },
  {
   "metadata": {
    "ExecuteTime": {
     "end_time": "2025-01-29T02:02:09.599608Z",
     "start_time": "2025-01-29T02:01:57.108689Z"
    }
   },
   "cell_type": "code",
   "source": [
    "hyphen_input = input('Hyphen-Separated Word: ')\n",
    "\n",
    "# First we need to split them into a list so that we could sort them \n",
    "hyphen_arr = sorted(hyphen_input.split('-'))\n",
    "# Afterwards, we use this array and join them (with hypens)\n",
    "sorted_hyphen_input = '-'.join(hyphen_arr)\n",
    "sorted_hyphen_input"
   ],
   "id": "6e71fc627bdf1032",
   "outputs": [
    {
     "data": {
      "text/plain": [
       "'We-like-python-to-with-work'"
      ]
     },
     "execution_count": 24,
     "metadata": {},
     "output_type": "execute_result"
    }
   ],
   "execution_count": 24
  },
  {
   "metadata": {},
   "cell_type": "markdown",
   "source": [
    "# Data Collection Assignment 2\n",
    "\n",
    "---\n",
    "\n",
    "## 1) Create third list picking odd-index 1st list then even-index 2nd list\n"
   ],
   "id": "aafa13e439e77564"
  },
  {
   "metadata": {
    "ExecuteTime": {
     "end_time": "2025-01-29T02:02:09.606648Z",
     "start_time": "2025-01-29T02:02:09.600624Z"
    }
   },
   "cell_type": "code",
   "source": [
    "listOne = [3,6,9,12,15,18,21]\n",
    "listTwo = [4,8,12,16,20,24,28]\n",
    "\n",
    "# Creating third list:\n",
    "# Odd-index 1st list \n",
    "# Even-index 2nd list \n",
    "\n",
    "# We could use list comp with enumerate check if the index is odd or even then combine the list \n",
    "listOne = [x for index,x in enumerate(listOne) if index%2 != 0]\n",
    "print(listOne)\n",
    "listTwo = [x for index,x in enumerate(listTwo) if index%2 == 0]\n",
    "print(listTwo)\n",
    "\n",
    "# Now we combine them\n",
    "listThree = listOne + listTwo\n",
    "print(listThree)"
   ],
   "id": "639da35b25878179",
   "outputs": [
    {
     "name": "stdout",
     "output_type": "stream",
     "text": [
      "[6, 12, 18]\n",
      "[4, 12, 20, 28]\n",
      "[6, 12, 18, 4, 12, 20, 28]\n"
     ]
    }
   ],
   "execution_count": 25
  },
  {
   "metadata": {},
   "cell_type": "markdown",
   "source": "# 2) Given a list slice into 3 equal chunks and reverse each list ",
   "id": "3d7a5d6189a9156d"
  },
  {
   "metadata": {
    "ExecuteTime": {
     "end_time": "2025-01-29T02:02:09.618630Z",
     "start_time": "2025-01-29T02:02:09.607645Z"
    }
   },
   "cell_type": "code",
   "source": [
    "sampleList = [11,45,8,23,14,12,78,45,89]\n",
    "\n",
    "# Let's make a function that prints our list then reverse it\n",
    "def slice_reverse(lst, begin,end):\n",
    "    print(list(reversed(lst[begin:end])))\n",
    "\n",
    "start = 0\n",
    "stop = 3\n",
    "for i in range(3):\n",
    "    slice_reverse(sampleList,start,stop)\n",
    "    # Each time we're done we'll add 3 to each start stop \n",
    "    start += 3\n",
    "    stop += 3"
   ],
   "id": "cab29d2f3401fac3",
   "outputs": [
    {
     "name": "stdout",
     "output_type": "stream",
     "text": [
      "[8, 45, 11]\n",
      "[12, 14, 23]\n",
      "[89, 45, 78]\n"
     ]
    }
   ],
   "execution_count": 26
  },
  {
   "metadata": {},
   "cell_type": "markdown",
   "source": "# 3) Iterate List, Count occurrences of ele + create dictionary show count",
   "id": "de48ddee395e4b0a"
  },
  {
   "metadata": {
    "ExecuteTime": {
     "end_time": "2025-01-29T02:02:09.628017Z",
     "start_time": "2025-01-29T02:02:09.620650Z"
    }
   },
   "cell_type": "code",
   "source": [
    "og_list = [11,45,8, 11, 23, 45, 23, 45, 89]\n",
    "counted_items = {}\n",
    "\n",
    "# We're working with dictionaries \n",
    "# If key doesn't exist we add \n",
    "# If key exists we increase counter \n",
    "\n",
    "for item in og_list:\n",
    "    # If the item exists in keys, we increment the count\n",
    "    if item in counted_items.keys():\n",
    "        counted_items[item] += 1\n",
    "    else:\n",
    "        # This means the key doesn't exist therefore we create one with a default value of 1\n",
    "        counted_items[item] = 1\n",
    "\n",
    "counted_items\n",
    "        "
   ],
   "id": "30d4b37a7243195e",
   "outputs": [
    {
     "data": {
      "text/plain": [
       "{11: 2, 45: 3, 8: 1, 23: 2, 89: 1}"
      ]
     },
     "execution_count": 27,
     "metadata": {},
     "output_type": "execute_result"
    }
   ],
   "execution_count": 27
  },
  {
   "metadata": {},
   "cell_type": "markdown",
   "source": "# 4) 2 list of equal size. create set elements in pairs",
   "id": "41cc1722016d78c4"
  },
  {
   "metadata": {
    "ExecuteTime": {
     "end_time": "2025-01-29T02:02:09.635889Z",
     "start_time": "2025-01-29T02:02:09.631015Z"
    }
   },
   "cell_type": "code",
   "source": [
    "# For this we just use zip() given two sep list, we could create pairs \n",
    "flist = [2,3,4,5,6,7,8]\n",
    "slist = [4,9,16,25,36,49,64]\n",
    "\n",
    "if len(flist) == len(slist):\n",
    "    paired_list = zip(flist, slist)\n",
    "    print(set(paired_list))"
   ],
   "id": "3e94faf7929843fa",
   "outputs": [
    {
     "name": "stdout",
     "output_type": "stream",
     "text": [
      "{(7, 49), (2, 4), (4, 16), (8, 64), (6, 36), (3, 9), (5, 25)}\n"
     ]
    }
   ],
   "execution_count": 28
  },
  {
   "metadata": {},
   "cell_type": "markdown",
   "source": "# 5) Check if element exist as value in dictionary  ",
   "id": "2f0ef51783c64c56"
  },
  {
   "metadata": {
    "ExecuteTime": {
     "end_time": "2025-01-29T02:02:09.646227Z",
     "start_time": "2025-01-29T02:02:09.637907Z"
    }
   },
   "cell_type": "code",
   "source": [
    "rollNum = [47,64,69,37,76,83,95,97]\n",
    "sampDict = {\n",
    "    'Jhon': 47,\n",
    "    'Emma': 69,\n",
    "    'Kelly': 76,\n",
    "    'Jason': 97\n",
    "}\n",
    "\n",
    "# We use .values() to retrieve a list of values from our dictionary \n",
    "# Loop through rollNum and check if that value is within our list of values \n",
    "print(list(sampDict.values()))\n",
    "\n",
    "# For some reason del keeps in 95 \n",
    "\"\"\"\n",
    "Previous Solution:\n",
    "Not sure why this keeps 95 in our output: [47, 69, 76, 95, 97]\n",
    "\n",
    "# We use enumerate to del the index \n",
    "for index,num in enumerate(rollNum):\n",
    "    if num not in list(sampDict.values()):\n",
    "        del rollNum[index]\n",
    "\n",
    "\"\"\"\n",
    "\n",
    "# However we also need to remove the ones that aren't in our list of values\n",
    "rollNum = [x  for x in rollNum if x in list(sampDict.values())]\n",
    "rollNum"
   ],
   "id": "21e6eff6c6198c7c",
   "outputs": [
    {
     "name": "stdout",
     "output_type": "stream",
     "text": [
      "[47, 69, 76, 97]\n"
     ]
    },
    {
     "data": {
      "text/plain": [
       "[47, 69, 76, 97]"
      ]
     },
     "execution_count": 29,
     "metadata": {},
     "output_type": "execute_result"
    }
   ],
   "execution_count": 29
  },
  {
   "metadata": {},
   "cell_type": "markdown",
   "source": "# 6) Given a dictionary get all values add to list without dupes\n",
   "id": "15ada56ac84866f1"
  },
  {
   "metadata": {
    "ExecuteTime": {
     "end_time": "2025-01-29T02:02:09.653563Z",
     "start_time": "2025-01-29T02:02:09.647243Z"
    }
   },
   "cell_type": "code",
   "source": [
    "speed = {\n",
    "    'jan': 47,\n",
    "    'feb': 52,\n",
    "    'march': 47,\n",
    "    'April': 44,\n",
    "    'May': 52,\n",
    "    'June': 53,\n",
    "    'july': 54,\n",
    "    'Aug': 44,\n",
    "    'Sept': 54\n",
    "}\n",
    "\n",
    "filtered_speed = [] \n",
    "\n",
    "for spd in speed.values():\n",
    "    if spd not in filtered_speed:\n",
    "        filtered_speed.append(spd)\n",
    "\n",
    "# We could double check by comparing our filtered_speed to a list of set\n",
    "# because set is a list of unique values\n",
    "# We sort the filtered speed to make sure all digits are the same\n",
    "if sorted(filtered_speed) == list(set(speed.values())):\n",
    "    print('Filtered Speed array is correct!')\n",
    "\n",
    "print(filtered_speed, list(set(speed.values())))\n"
   ],
   "id": "b8f929806ca06482",
   "outputs": [
    {
     "name": "stdout",
     "output_type": "stream",
     "text": [
      "Filtered Speed array is correct!\n",
      "[47, 52, 44, 53, 54] [44, 47, 52, 53, 54]\n"
     ]
    }
   ],
   "execution_count": 30
  },
  {
   "metadata": {},
   "cell_type": "markdown",
   "source": [
    "# 7) Remove dupe from list and create tuple. Find min and max.\n",
    "\n",
    "The output on the PDF saids: `[87,45,41,65,99]` However **41** appears twice which means it's not unique."
   ],
   "id": "b5e8f629a8514480"
  },
  {
   "metadata": {
    "ExecuteTime": {
     "end_time": "2025-01-29T02:02:09.660751Z",
     "start_time": "2025-01-29T02:02:09.655579Z"
    }
   },
   "cell_type": "code",
   "source": [
    "sampleList = [87,45,41,65,94,41,99,94]\n",
    "sampleTuple = ()\n",
    "# We could use the same idea as last question where we create a new list \n",
    "# check the count of that value and see if its less than 2 \n",
    "for num in sampleList:\n",
    "    if sampleList.count(num) == 1:\n",
    "        # We want to keep this number\n",
    "        # Since tuples are Immutable we cannot use append we could tuples though \n",
    "        sampleTuple += (num, )  # It's important we have the leading comma\n",
    "print('Tuple: ', sampleTuple)\n",
    "print('Min: ', min(sampleTuple))\n",
    "print('Max: ', max(sampleTuple))"
   ],
   "id": "b47bcd7eb8f2f6c9",
   "outputs": [
    {
     "name": "stdout",
     "output_type": "stream",
     "text": [
      "Tuple:  (87, 45, 65, 99)\n",
      "Min:  45\n",
      "Max:  99\n"
     ]
    }
   ],
   "execution_count": 31
  },
  {
   "metadata": {},
   "cell_type": "markdown",
   "source": [
    "# 8) List of Ints replacing\n",
    "\n",
    "1) Divisible by 3 w/ \"fizz\"\n",
    "2) Divisible by 5 w/ \"buzz\"\n",
    "3) Divisible by both 3 and 5 w/ \"fizzbuzz\" "
   ],
   "id": "22186e31f973eee7"
  },
  {
   "metadata": {
    "ExecuteTime": {
     "end_time": "2025-01-29T02:02:09.668874Z",
     "start_time": "2025-01-29T02:02:09.662765Z"
    }
   },
   "cell_type": "code",
   "source": [
    "numbers = [45,22,14,65,97,72]\n",
    "\n",
    "# We could check divisible with % \n",
    "# Let's create a function with our if statement \n",
    "def replacing_ints(index,num):\n",
    "    if num%3==0 and num%5==0:\n",
    "        numbers[index] = \"fizzbuzz\"\n",
    "    elif num%3==0:\n",
    "        numbers[index] = \"fizz\"\n",
    "    elif num%5==0:\n",
    "        numbers[index] = \"buzz\"\n",
    "    \n",
    "for index,num in enumerate(numbers): \n",
    "    replacing_ints(index,num)\n",
    "\n",
    "numbers"
   ],
   "id": "209f7543593e8bc",
   "outputs": [
    {
     "data": {
      "text/plain": [
       "['fizzbuzz', 22, 14, 'buzz', 97, 'fizz']"
      ]
     },
     "execution_count": 32,
     "metadata": {},
     "output_type": "execute_result"
    }
   ],
   "execution_count": 32
  },
  {
   "metadata": {},
   "cell_type": "markdown",
   "source": "# 9) Sort Complex Data based on age of animal",
   "id": "85553bbdc01dd19c"
  },
  {
   "metadata": {
    "ExecuteTime": {
     "end_time": "2025-01-29T02:02:09.678700Z",
     "start_time": "2025-01-29T02:02:09.669889Z"
    }
   },
   "cell_type": "code",
   "source": [
    "animals = [\n",
    "    {\n",
    "        'type': 'Penguin',\n",
    "        'name': 'Stephanie',\n",
    "        'age': 8\n",
    "    },\n",
    "    {\n",
    "        'type': 'Elephant',\n",
    "        'name': \"Devon\",\n",
    "        'age': 3\n",
    "    },\n",
    "    {\n",
    "        'type': 'Puma',\n",
    "        'name': \"Moe\",\n",
    "        'age': 5\n",
    "    }\n",
    "]\n",
    "\n",
    "# We could use the \"key\" argument in sorted() function but we need to sort based off of \"age\"\n",
    "def age(obj):\n",
    "    return obj['age']\n",
    "\n",
    "# Using the function which returns every single object based on age key\n",
    "sorted(animals, key=age)"
   ],
   "id": "1f606d8b7b532475",
   "outputs": [
    {
     "data": {
      "text/plain": [
       "[{'type': 'Elephant', 'name': 'Devon', 'age': 3},\n",
       " {'type': 'Puma', 'name': 'Moe', 'age': 5},\n",
       " {'type': 'Penguin', 'name': 'Stephanie', 'age': 8}]"
      ]
     },
     "execution_count": 33,
     "metadata": {},
     "output_type": "execute_result"
    }
   ],
   "execution_count": 33
  },
  {
   "metadata": {},
   "cell_type": "markdown",
   "source": "# 10) Function that returns unique words ",
   "id": "28f915cde2528c27"
  },
  {
   "metadata": {
    "ExecuteTime": {
     "end_time": "2025-01-29T02:02:09.686097Z",
     "start_time": "2025-01-29T02:02:09.679717Z"
    }
   },
   "cell_type": "code",
   "source": [
    "import random \n",
    "\n",
    "# Default code\n",
    "all_words = 'all the words in the world'.split()\n",
    "# Default function from problem \n",
    "def get_random_word():\n",
    "    return random.choice(all_words)\n",
    "\n",
    "# My unique words function\n",
    "# We'll use a mutable parameter which REMEMBERS everytime we run that function \n",
    "def get_unique_words(l=[]):\n",
    "    word = get_random_word()\n",
    "    if word not in l:\n",
    "        # Word isn't in our list, therefore, we append\n",
    "        l.append(word)\n",
    "    # Allows us to print the result\n",
    "    return l \n",
    "\n",
    "# We do 999 because the function itself generates a random word and we'll eventually call it one last time to get the final result of 1000 calls\n",
    "for i in range(999):\n",
    "    get_unique_words()\n",
    "\n",
    "# Final 1000th call of the function\n",
    "print(get_unique_words())"
   ],
   "id": "d1e3a6352da9067e",
   "outputs": [
    {
     "name": "stdout",
     "output_type": "stream",
     "text": [
      "['world', 'all', 'in', 'words', 'the']\n"
     ]
    }
   ],
   "execution_count": 34
  },
  {
   "metadata": {},
   "cell_type": "markdown",
   "source": "# 11) Cowboy Dictionary",
   "id": "fc9cbbfed6e185e6"
  },
  {
   "metadata": {
    "ExecuteTime": {
     "end_time": "2025-01-29T02:02:09.693603Z",
     "start_time": "2025-01-29T02:02:09.688111Z"
    }
   },
   "cell_type": "code",
   "source": [
    "cowboy = {\n",
    "    'age': 32,\n",
    "    'horse': 'Mustang',\n",
    "    'hat_size': 'large'\n",
    "}\n",
    "\n",
    "# If the key doesn't exist we could just use the .get() function where the second parameter provides a default value for that key \n",
    "print(cowboy.get('name', 'The Man with No Name'))\n",
    "\n",
    "# But if we want to perm alter cowboy \n",
    "if 'name' not in cowboy.keys():\n",
    "    cowboy['name'] = 'The Man with No Name'\n",
    "    print(cowboy)\n"
   ],
   "id": "671dee97b4785a50",
   "outputs": [
    {
     "name": "stdout",
     "output_type": "stream",
     "text": [
      "The Man with No Name\n",
      "{'age': 32, 'horse': 'Mustang', 'hat_size': 'large', 'name': 'The Man with No Name'}\n"
     ]
    }
   ],
   "execution_count": 35
  },
  {
   "metadata": {},
   "cell_type": "markdown",
   "source": "# 12) Sort User input until 0",
   "id": "b83c0d9f16c0d237"
  },
  {
   "metadata": {
    "ExecuteTime": {
     "end_time": "2025-01-29T02:02:22.586554Z",
     "start_time": "2025-01-29T02:02:09.694618Z"
    }
   },
   "cell_type": "code",
   "source": [
    "# We're using the while loop until the user enters 0 \n",
    "user_numbers = [] \n",
    "while True:\n",
    "    # Remember to have our input as an integer NOT A STRING\n",
    "    user_input = int(input('Number: '))\n",
    "    # Break case \n",
    "    if user_input == 0:\n",
    "        # This way we don't include the 0 \n",
    "        break\n",
    "    else:\n",
    "        user_numbers.append(user_input)\n",
    "\n",
    "# Doesn't print anything we need to run the function then print the original list\n",
    "# print(user_numbers.sort())\n",
    "user_numbers.sort() \n",
    "# One value on each line \n",
    "for num in user_numbers:\n",
    "    print(num)"
   ],
   "id": "a99f0a985b0baa1d",
   "outputs": [
    {
     "name": "stdout",
     "output_type": "stream",
     "text": [
      "1\n",
      "6\n",
      "12\n",
      "15\n",
      "20\n",
      "34\n"
     ]
    }
   ],
   "execution_count": 36
  },
  {
   "metadata": {},
   "cell_type": "markdown",
   "source": "# 13) Grouped integers display until blank",
   "id": "cd76e4c3cda2605d"
  },
  {
   "metadata": {
    "ExecuteTime": {
     "end_time": "2025-01-29T02:02:41.777319Z",
     "start_time": "2025-01-29T02:02:22.587573Z"
    }
   },
   "cell_type": "code",
   "source": [
    "# Because it should display all the negative, zeros and positive numbers \n",
    "# My approach would be using 3 lists to categorize these \n",
    "# Mainly because it should keep the order they enter \n",
    "neg = []\n",
    "zero = []\n",
    "pos = [] \n",
    "\n",
    "while True:\n",
    "    user_input = input('Number: ')\n",
    "    if user_input:\n",
    "        # Meaning it's not blank then we change it to an int\n",
    "        user_input = int(user_input)\n",
    "    else:\n",
    "        # Empty space \n",
    "        break \n",
    "    \n",
    "    # Now we append based on category \n",
    "    if user_input < 0:\n",
    "        # Negative numbers \n",
    "        neg.append(user_input)\n",
    "    elif user_input == 0:\n",
    "        # Zero numbers\n",
    "        zero.append(user_input)\n",
    "    elif user_input > 0:\n",
    "        # Positive numbers \n",
    "        pos.append(user_input)\n",
    "\n",
    "combined_list = neg + zero + pos \n",
    "\n",
    "# Displaying each value on its own line \n",
    "for val in combined_list:\n",
    "    print(val)\n"
   ],
   "id": "350fb8a91f7ec17b",
   "outputs": [
    {
     "name": "stdout",
     "output_type": "stream",
     "text": [
      "-4\n",
      "-1\n",
      "-2\n",
      "0\n",
      "0\n",
      "3\n",
      "1\n"
     ]
    }
   ],
   "execution_count": 37
  }
 ],
 "metadata": {
  "kernelspec": {
   "display_name": "Python 3",
   "language": "python",
   "name": "python3"
  },
  "language_info": {
   "codemirror_mode": {
    "name": "ipython",
    "version": 2
   },
   "file_extension": ".py",
   "mimetype": "text/x-python",
   "name": "python",
   "nbconvert_exporter": "python",
   "pygments_lexer": "ipython2",
   "version": "2.7.6"
  }
 },
 "nbformat": 4,
 "nbformat_minor": 5
}
