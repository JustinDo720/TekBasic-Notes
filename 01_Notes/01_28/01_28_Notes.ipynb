{
 "cells": [
  {
   "metadata": {},
   "cell_type": "markdown",
   "source": [
    "# January 28, 2025\n",
    "\n",
    "---"
   ],
   "id": "5d5eef1759021a5d"
  },
  {
   "metadata": {},
   "cell_type": "markdown",
   "source": [
    "# Python Pass\n",
    "\n",
    "`pass` is mainly used to bypass the compiler. You use set it as a **TODO:** for later. Used to **implement** things later just layout out the foundation of the code"
   ],
   "id": "56de9cc614f82639"
  },
  {
   "cell_type": "code",
   "id": "initial_id",
   "metadata": {
    "collapsed": true,
    "ExecuteTime": {
     "end_time": "2025-01-28T15:57:04.687047Z",
     "start_time": "2025-01-28T15:57:04.679045Z"
    }
   },
   "source": [
    "# Taking a look at break from yesterday \n",
    "count = 0 \n",
    "while count < 10:\n",
    "    pass    # Does nothing (Bypass block code then implment later)\n",
    "    count +=1 \n",
    "    print(count)"
   ],
   "outputs": [
    {
     "name": "stdout",
     "output_type": "stream",
     "text": [
      "1\n",
      "2\n",
      "3\n",
      "4\n",
      "5\n",
      "6\n",
      "7\n",
      "8\n",
      "9\n",
      "10\n"
     ]
    }
   ],
   "execution_count": 1
  },
  {
   "metadata": {
    "ExecuteTime": {
     "end_time": "2025-01-28T16:13:23.235799Z",
     "start_time": "2025-01-28T16:13:23.230323Z"
    }
   },
   "cell_type": "code",
   "source": [
    "# Question: How do we compare two values?\n",
    "a = '012'\n",
    "b = '012'\n",
    "\n",
    "# So we could create a check the combined pairs \n",
    "c = ''\n",
    "index = 0 \n",
    "step = 3+1\n",
    "match = True \n",
    "for c1 in a:\n",
    "    for c2 in b:\n",
    "        c+=c1\n",
    "        c+=c2\n",
    "        if index%step == 0:\n",
    "            if c1 != c2:\n",
    "                match = match and False\n",
    "        index+=1\n",
    "print(match)"
   ],
   "id": "d922385d0e7687ae",
   "outputs": [
    {
     "name": "stdout",
     "output_type": "stream",
     "text": [
      "True\n"
     ]
    }
   ],
   "execution_count": 8
  },
  {
   "metadata": {},
   "cell_type": "code",
   "outputs": [],
   "execution_count": null,
   "source": "",
   "id": "581a8de29e8f4fc0"
  },
  {
   "metadata": {},
   "cell_type": "markdown",
   "source": [
    "# Python New Materials January 28\n",
    "\n",
    "## Functions \n",
    "\n",
    "Reusable code. Your functions could have **parameters** and when using the functions we could then pass **arguments**. Functions could also **return** a value.\n",
    "1) Take in data \n",
    "2) Perform something with that data \n",
    "3) Return something \n",
    "\n",
    "```python\n",
    "\n",
    "def customFunction(a,b):\n",
    "    # Logical portion \n",
    "    c = a+b\n",
    "    # Returning value \n",
    "    return c \n",
    "\n",
    "# We could retrieve the returned value using variables \n",
    "c = customFunction(2,5)\n",
    "print(c)    # output 7\n",
    "```\n",
    "\n",
    "---\n",
    " \n",
    "We could have **positional** and **keyword** argument\n",
    "\n",
    "Default positions means you could pass arguments in that specific position. Keywords are required to be **preset**. One **positional** first!\n",
    "\n",
    "```python\n",
    "# But we don't need the / anymore \n",
    "def arg_func(a,/,b,c):\n",
    "    pass\n",
    "\n",
    "# Different order \n",
    "arg_func(1, c=3, b=2)\n",
    "```\n",
    "\n",
    "---\n",
    "\n",
    "**Optional Parameters** \n",
    "\n",
    "```python\n",
    "# set a default value\n",
    "def default_arg(a=1):\n",
    "    pass\n",
    "\n",
    "# No need to add a value \n",
    "default_arg()\n",
    "``` "
   ],
   "id": "13a9994a3ffb1ee9"
  },
  {
   "metadata": {
    "ExecuteTime": {
     "end_time": "2025-01-28T16:31:50.339001Z",
     "start_time": "2025-01-28T16:31:50.333235Z"
    }
   },
   "cell_type": "code",
   "source": [
    "# Functions \n",
    "\n",
    "# We could have a blueprint function \n",
    "def myFunctionBlueprint():\n",
    "    pass\n",
    "\n",
    "def myFunction():\n",
    "    print('Hello')\n",
    "    \n",
    "myFunction()\n",
    "\n",
    "def advFunction(msg, msg2):\n",
    "    print('This is my custom message: ', msg, msg2)\n",
    "\n",
    "# Must pass a required argument\n",
    "# advFunction()\n",
    "advFunction('Hello World from Pycharm', \"Second Hello World from Pycharm\")"
   ],
   "id": "92f90263210cc6c3",
   "outputs": [
    {
     "name": "stdout",
     "output_type": "stream",
     "text": [
      "Hello\n",
      "This is my custom message:  Hello World from Pycharm Second Hello World from Pycharm\n"
     ]
    }
   ],
   "execution_count": 13
  },
  {
   "metadata": {
    "ExecuteTime": {
     "end_time": "2025-01-28T16:40:07.257784Z",
     "start_time": "2025-01-28T16:40:07.250859Z"
    }
   },
   "cell_type": "code",
   "source": [
    "# Based on our previous Algorithm \n",
    "\n",
    "def compareVal(d,d1):\n",
    "    # Question: How do we compare two values?\n",
    "    \n",
    "    # So we could create a check the combined pairs \n",
    "    index = 0 \n",
    "    step = 3+1\n",
    "    match = True \n",
    "    for c1 in d:\n",
    "        for c2 in d1:\n",
    "            if index%step == 0:\n",
    "                if c1 != c2:\n",
    "                    match = match and False\n",
    "            index+=1\n",
    "    return match\n",
    "print(compareVal('123', '123'))"
   ],
   "id": "8b603519302304e2",
   "outputs": [
    {
     "name": "stdout",
     "output_type": "stream",
     "text": [
      "True\n"
     ]
    }
   ],
   "execution_count": 14
  },
  {
   "metadata": {
    "ExecuteTime": {
     "end_time": "2025-01-28T16:45:03.491804Z",
     "start_time": "2025-01-28T16:45:03.485806Z"
    }
   },
   "cell_type": "code",
   "source": [
    "# Positional and Keyword\n",
    "def arg_func(a,/,b,c):\n",
    "    print('a', a)\n",
    "    print('b', b)\n",
    "    print('c', c)\n",
    "\n",
    "arg_func(1,b=2,c=3)"
   ],
   "id": "3509ec42c4f7e23",
   "outputs": [
    {
     "name": "stdout",
     "output_type": "stream",
     "text": [
      "a 1\n",
      "b 2\n",
      "c 3\n"
     ]
    }
   ],
   "execution_count": 16
  },
  {
   "metadata": {
    "ExecuteTime": {
     "end_time": "2025-01-28T16:49:26.563037Z",
     "start_time": "2025-01-28T16:49:26.558380Z"
    }
   },
   "cell_type": "code",
   "source": [
    "# Optional argument \n",
    "def default_arg(a=1):\n",
    "    print(a)\n",
    "\n",
    "default_arg()"
   ],
   "id": "b2c7524b1957482c",
   "outputs": [
    {
     "name": "stdout",
     "output_type": "stream",
     "text": [
      "1\n"
     ]
    }
   ],
   "execution_count": 18
  },
  {
   "metadata": {},
   "cell_type": "markdown",
   "source": [
    "---\n",
    "\n",
    "# Python Data Collections \n",
    "\n",
    "### Sequence Types\n",
    "\n",
    "**String** \n",
    "\n",
    "`m = 'Hello World!'`\n",
    "\n",
    "**List** (Mutable) (You could modify)\n",
    "\n",
    "`l = [1,10.1,'a',6]`\n",
    "\n",
    "**Tuple**  (Immutable) (You cannot modify) --> Faster\n",
    "\n",
    "`t = (1,2,4)`\n",
    "\n",
    "**Range**\n",
    "\n",
    "`r = range(0,5)`\n",
    "\n",
    "*Use Len* to check the amount of elements in that data collection (within the sequence) \n",
    "\n",
    "We access these using **index** \n",
    "\n",
    "```python\n",
    "l = [1,10.1, 'a']\n",
    "# Indexing\n",
    "l[1]    # 10.1\n",
    "```\n",
    "\n",
    "For **range** you could see the data inside by *converting* a **range** to **list**\n",
    "- `list(range(0,5))`\n",
    "\n",
    "To retrieve the last you could always take the total count - 1 (Negative Indexing):\n",
    "- `print(m[len(m) - 1])` | `print(m[-1])`\n",
    "- `print(m[-5])`    Reverse Indexing \n",
    "\n",
    "**This could be applied to any data collection**\n",
    "\n",
    "---\n",
    "\n",
    "**Some of the data could be modified** but some **CANNOT** (Mutable vs Immutable)\n"
   ],
   "id": "dfdbe9c1f4bb34e9"
  },
  {
   "metadata": {
    "ExecuteTime": {
     "end_time": "2025-01-28T17:14:43.307697Z",
     "start_time": "2025-01-28T17:14:43.284292Z"
    }
   },
   "cell_type": "code",
   "source": [
    "# Mutable\n",
    "l = ['a', 'b', 'c']\n",
    "l[1] = 'd'\n",
    "\n",
    "# Immutable \n",
    "m = 'Hello'\n",
    "m[0] = 'h'  # String cannot be changed\n",
    "t = (1,2,3)\n",
    "t[1] = 5    # Tuple cannot be changed"
   ],
   "id": "afbb39d8037c622e",
   "outputs": [
    {
     "ename": "TypeError",
     "evalue": "'str' object does not support item assignment",
     "output_type": "error",
     "traceback": [
      "\u001B[1;31m---------------------------------------------------------------------------\u001B[0m",
      "\u001B[1;31mTypeError\u001B[0m                                 Traceback (most recent call last)",
      "Cell \u001B[1;32mIn[19], line 7\u001B[0m\n\u001B[0;32m      5\u001B[0m \u001B[38;5;66;03m# Immutable \u001B[39;00m\n\u001B[0;32m      6\u001B[0m m \u001B[38;5;241m=\u001B[39m \u001B[38;5;124m'\u001B[39m\u001B[38;5;124mHello\u001B[39m\u001B[38;5;124m'\u001B[39m\n\u001B[1;32m----> 7\u001B[0m \u001B[43mm\u001B[49m\u001B[43m[\u001B[49m\u001B[38;5;241;43m0\u001B[39;49m\u001B[43m]\u001B[49m \u001B[38;5;241m=\u001B[39m \u001B[38;5;124m'\u001B[39m\u001B[38;5;124mh\u001B[39m\u001B[38;5;124m'\u001B[39m\n\u001B[0;32m      8\u001B[0m t \u001B[38;5;241m=\u001B[39m (\u001B[38;5;241m1\u001B[39m,\u001B[38;5;241m2\u001B[39m,\u001B[38;5;241m3\u001B[39m)\n\u001B[0;32m      9\u001B[0m t[\u001B[38;5;241m1\u001B[39m] \u001B[38;5;241m=\u001B[39m \u001B[38;5;241m5\u001B[39m\n",
      "\u001B[1;31mTypeError\u001B[0m: 'str' object does not support item assignment"
     ]
    }
   ],
   "execution_count": 19
  },
  {
   "metadata": {},
   "cell_type": "markdown",
   "source": [
    "# Python Slicing \n",
    "\n",
    "If you want to obtain a group of elements (not everything) \n",
    "\n",
    "```python\n",
    "l = [1,2,3]\n",
    "\n",
    "# Start and Stop index (Stop exclusive)\n",
    "l[0:1]\n",
    "```\n",
    "\n",
    "We could also implement **step** \n",
    "\n",
    "```python\n",
    "l = [1,2,3,5,6,7]\n",
    "\n",
    "# Start Stop Step (Stop exclusive) (Step inclusive)\n",
    "l[0::2]\n",
    "```\n",
    "\n",
    "Step will count then **INCLUDE**\n",
    "\n",
    "We could step **backwards** but you cannot start 1-7 backwards. It has to be 7-1 backwards.\n",
    "\n",
    "`l[7:0:-1]` not `l[0:7:-1]` you could also do `l[::-1]`\n",
    "\n",
    "Important to *note* it doesn't **alter** the previous value.\n"
   ],
   "id": "181d1d098fcc47ea"
  },
  {
   "metadata": {
    "ExecuteTime": {
     "end_time": "2025-01-28T17:46:06.442541Z",
     "start_time": "2025-01-28T17:46:06.434783Z"
    }
   },
   "cell_type": "code",
   "source": [
    "l = [1,2,3,5,6,7]\n",
    "\n",
    "# Start Stop Step (Stop exclusive) (Step inclusive)\n",
    "print(l[0::2])\n",
    "\n",
    "m = 'Hello Message'\n",
    "print(m[::-1])\n",
    "\n",
    "# But understand m[::-1] does not alter the previous \n",
    "print(id(m))\n",
    "id(m[::-1])"
   ],
   "id": "426596fc68f67aa0",
   "outputs": [
    {
     "name": "stdout",
     "output_type": "stream",
     "text": [
      "[1, 3, 6]\n",
      "egasseM olleH\n",
      "2735609102256\n"
     ]
    },
    {
     "data": {
      "text/plain": [
       "2735609113776"
      ]
     },
     "execution_count": 28,
     "metadata": {},
     "output_type": "execute_result"
    }
   ],
   "execution_count": 28
  },
  {
   "metadata": {},
   "cell_type": "markdown",
   "source": [
    "# Python Sequence functions\n",
    "\n",
    "---\n",
    "\n",
    "We could check the max with `max()` and min with `min()` \n",
    "\n",
    "`sum(;)` with list to get total \n",
    "\n",
    "`sorted(l)` to sort the original list \n",
    "\n",
    "`list(reversed(l))` we reverse a list but it returns an **iterator** therefore you cannot see the **data** directly and have to **convert back into the list**\n",
    "\n",
    "`any(l)` checks if theres an **actual** element in that *data collection* (data in means True) but if (all false then false) \n",
    "\n",
    "`all(l)` checks and make sure all data are True\n",
    "\n",
    "`enumerate(l, start=1)` creates iterable object which has the pair of **(index, 'element')**\n",
    "\n",
    "`zip(keys,values)`  creates a pair **tuple** from 2 **lists** \n",
    "\n",
    "`del` keyword to remove items in data collection \n",
    "- `del l[0]` Lists are mutable which means you could remove specifics \n",
    "- `del t`   Because tuples are immutable you cannot remove items inside it\n",
    "\n",
    "---\n",
    "\n",
    "`\" \".join(l)`  Joins all **elements** within a **list/tuple** inside a **string**\n",
    "\n",
    "`l.index('e', 5, 12)` or `l.index('and')` Looking for index of a value (you could also check within a range)\n",
    "\n",
    "`m.split(' ')` splits a **string** into **lists**\n",
    "\n",
    "`m.count()` checks the count of items \n",
    "\n",
    "---\n",
    "\n",
    "`l.append(4)`   Adds an element to the list \n",
    "`l.extend([4,5,6])` Combines elements into out list \n",
    "`l.insert(1,0)` Insert \"0\" at 1 index \n",
    "`l.remove(4)`   Removes first occurrence of that **element**\n",
    "`l.pop(1)`  Catch an element out of the list **(Index value)**\n",
    "`l.sort(reverse=True)`  Sorted reversed if `reverse=True`\n",
    "`l.reverse()`   To focus on reversing only \n",
    "\n",
    "---\n",
    "\n",
    "We could **Unpack** a list \n",
    "\n",
    "```python\n",
    "# Unpacking \n",
    "l = ['a', 'b', 'c']\n",
    "a,b,c = l \n",
    "print(a,b,c)\n",
    "```\n",
    "\n",
    "We could use **List Comp** \n",
    "\n",
    "`list_comp_area = [m**2 for m in length if m%2 == 0]`\n",
    "\n",
    "List **copy**\n",
    "\n",
    "```python\n",
    "l1 = [1,2]\n",
    "l2 = [3,4]\n",
    "\n",
    "# Shallow Copy not a Deep Copy \n",
    "l3 = l1+l2\n",
    "\n",
    "# Changing Original list doesn't affect the new one \n",
    "l1[0] = 0\n",
    "\n",
    "# We could extend using multiplation \n",
    "new_l3 = l1*2 \n",
    "```\n",
    "\n",
    "**Nested** list \n",
    "\n",
    "```python\n",
    "n1 = [[1,2], [3,4], [5,5]]\n",
    "\n",
    "child_list = n1[0]\n",
    "```\n"
   ],
   "id": "ab2f4855407075b5"
  },
  {
   "metadata": {
    "ExecuteTime": {
     "end_time": "2025-01-28T18:17:16.829313Z",
     "start_time": "2025-01-28T18:17:16.820452Z"
    }
   },
   "cell_type": "code",
   "source": [
    "l = ['hello', 'world', 'and', 'python']\n",
    "m = \" \".join(l)\n",
    "print(m)\n",
    "\n",
    "splitted_string = m.split(' ')\n",
    "splitted_string"
   ],
   "id": "b04e884dec284276",
   "outputs": [
    {
     "name": "stdout",
     "output_type": "stream",
     "text": [
      "hello world and python\n"
     ]
    },
    {
     "data": {
      "text/plain": [
       "['hello', 'world', 'and', 'python']"
      ]
     },
     "execution_count": 30,
     "metadata": {},
     "output_type": "execute_result"
    }
   ],
   "execution_count": 30
  },
  {
   "metadata": {
    "ExecuteTime": {
     "end_time": "2025-01-28T18:31:08.915967Z",
     "start_time": "2025-01-28T18:31:08.910876Z"
    }
   },
   "cell_type": "code",
   "source": [
    "# Unpacking \n",
    "l = ['a', 'b', 'c']\n",
    "a,b,c = l \n",
    "print(a,b,c)"
   ],
   "id": "20872d600461ed0e",
   "outputs": [
    {
     "name": "stdout",
     "output_type": "stream",
     "text": [
      "a b c\n"
     ]
    }
   ],
   "execution_count": 31
  },
  {
   "metadata": {
    "ExecuteTime": {
     "end_time": "2025-01-28T18:36:58.730558Z",
     "start_time": "2025-01-28T18:36:58.722882Z"
    }
   },
   "cell_type": "code",
   "source": [
    "# Normally \n",
    "length = [1,2,3,4,5]\n",
    "area = []\n",
    "for m in length:\n",
    "    area.append(m**2)\n",
    "print(area)\n",
    "\n",
    "# Only for even numbers \n",
    "list_comp_area = [m**2 for m in length if m%2 == 0]\n",
    "list_comp_area"
   ],
   "id": "48d927086e6e56f9",
   "outputs": [
    {
     "name": "stdout",
     "output_type": "stream",
     "text": [
      "[1, 4, 9, 16, 25]\n"
     ]
    },
    {
     "data": {
      "text/plain": [
       "[4, 16]"
      ]
     },
     "execution_count": 34,
     "metadata": {},
     "output_type": "execute_result"
    }
   ],
   "execution_count": 34
  },
  {
   "metadata": {
    "ExecuteTime": {
     "end_time": "2025-01-28T18:45:04.099639Z",
     "start_time": "2025-01-28T18:45:04.091382Z"
    }
   },
   "cell_type": "code",
   "source": [
    "# Mutable default parameter \n",
    "# Doesn't correct a new list but rather reuses the same list \n",
    "def myListFunc(l=[]):\n",
    "    l.append('a')\n",
    "    return l\n",
    "\n",
    "# If you run multiple times it will still reference to the same list in parameter\n",
    "output = myListFunc()\n",
    "myListFunc()\n",
    "print(output)\n",
    "\n",
    "# 2:45 for questions (work on assignment)"
   ],
   "id": "4fe9848d7ff6bf34",
   "outputs": [
    {
     "name": "stdout",
     "output_type": "stream",
     "text": [
      "['a', 'a']\n"
     ]
    }
   ],
   "execution_count": 37
  },
  {
   "metadata": {},
   "cell_type": "code",
   "outputs": [],
   "execution_count": null,
   "source": "",
   "id": "471dc7fcecb9209d"
  }
 ],
 "metadata": {
  "kernelspec": {
   "display_name": "Python 3",
   "language": "python",
   "name": "python3"
  },
  "language_info": {
   "codemirror_mode": {
    "name": "ipython",
    "version": 2
   },
   "file_extension": ".py",
   "mimetype": "text/x-python",
   "name": "python",
   "nbconvert_exporter": "python",
   "pygments_lexer": "ipython2",
   "version": "2.7.6"
  }
 },
 "nbformat": 4,
 "nbformat_minor": 5
}
