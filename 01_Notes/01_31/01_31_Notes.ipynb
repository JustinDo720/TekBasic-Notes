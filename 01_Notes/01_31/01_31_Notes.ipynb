{
 "cells": [
  {
   "metadata": {},
   "cell_type": "markdown",
   "source": [
    "# Evaluation will be on Tuesday 10:30AM\n",
    "\n",
    "**Class on Monday** \n",
    "\n",
    "If any questions: trainers@tekbasic.com\n",
    "- Waiting for too long let them know \n",
    "\n",
    "**3hrs** --> 2.5 hr coding questions \n",
    "- Not too easy coding questions but not too hard (**medium**)\n",
    "\n"
   ],
   "id": "e1f7e438cb854a4f"
  },
  {
   "metadata": {},
   "cell_type": "markdown",
   "source": [
    "# Python Class Variable \n",
    "\n",
    "Class Variable is STATIC \n",
    "\n",
    "When you **override** during instance variable, it becomes part of a property\n",
    "\n",
    "In Real-Life if you have a **data** that you want to **share** between class object then we use: **class variables**\n",
    "- Because those class variables retain its data in memory\n",
    "\n",
    "**Class vs Static vs Instance** Method \n",
    "- Class Methods are denoted with `@classmethod` and takes `cls` instead of `self` beacuse it's meant to work on Class variables and attributes \n",
    "- Static methods are denoted with `@staticmethod` and takes no *cls* or *self* because it's just a helper function\n",
    "- Instance methods are the usual methods that takes in `self` and performs an action because on the object\n",
    "\n",
    "```python\n",
    "\n",
    "class Example:\n",
    "    class_variable = \"I am a class variable\"\n",
    "\n",
    "    def __init__(self, value):\n",
    "        self.instance_variable = value  # This is an instance variable\n",
    "\n",
    "    # Instance Method\n",
    "    def instance_method(self):\n",
    "        return f\"Instance Method: {self.instance_variable}\"\n",
    "\n",
    "    # Class Method\n",
    "    @classmethod\n",
    "    def class_method(cls):\n",
    "        return f\"Class Method: {cls.class_variable}\"\n",
    "\n",
    "    # Static Method\n",
    "    @staticmethod\n",
    "    def static_method():\n",
    "        return \"Static Method: I don't use instance or class variables\"\n",
    "\n",
    "\n",
    "# Create an instance\n",
    "obj = Example(\"I am an instance variable\")\n",
    "\n",
    "# Calling an instance method\n",
    "print(obj.instance_method())  # ✅ Works -> Uses instance attributes\n",
    "\n",
    "# Calling a class method\n",
    "print(Example.class_method())  # ✅ Works -> Uses class attribute\n",
    "print(obj.class_method())  # ✅ Also works, but uses class context\n",
    "\n",
    "# Calling a static method\n",
    "print(Example.static_method())  # ✅ Works -> Independent function inside the class\n",
    "print(obj.static_method())  # ✅ Also works, but unnecessary\n",
    "\n",
    "\n",
    "```"
   ],
   "id": "d3c607ef8374bee7"
  },
  {
   "cell_type": "code",
   "id": "initial_id",
   "metadata": {
    "collapsed": true,
    "ExecuteTime": {
     "end_time": "2025-01-31T16:09:51.952261Z",
     "start_time": "2025-01-31T16:09:51.946155Z"
    }
   },
   "source": [
    "# Class \n",
    "\n",
    "class Book: \n",
    "    \n",
    "    # Class Variable not Instance variable\n",
    "    # In memory this belongs to the Class\n",
    "    branch = 0\n",
    "    \n",
    "    def __init__(self,name):\n",
    "        self.name = name \n",
    "        # If this is inrecemented the next time we make an instance of the class\n",
    "        # The Book will retain its value \n",
    "        Book.branch += 1\n",
    "\n",
    "# Instance Variable \n",
    "b = Book('Harry Potter')\n",
    "print(b.name)\n",
    "# Class Variable \n",
    "print(b.branch)\n",
    "print()\n",
    "\n",
    "# Notice how when we create a second object...\n",
    "# Branch is actually 2 not 1 because Branch is a class Variable \n",
    "b1 = Book('Harry Potter 2')\n",
    "print(b1.name)\n",
    "print(b1.branch)"
   ],
   "outputs": [
    {
     "name": "stdout",
     "output_type": "stream",
     "text": [
      "Harry Potter\n",
      "1\n",
      "\n",
      "Harry Potter 2\n",
      "2\n"
     ]
    }
   ],
   "execution_count": 8
  },
  {
   "metadata": {
    "ExecuteTime": {
     "end_time": "2025-01-31T16:20:13.913368Z",
     "start_time": "2025-01-31T16:20:13.906745Z"
    }
   },
   "cell_type": "code",
   "source": [
    "# Class Method, Instance method, Staticmethod\n",
    "\n",
    "class Book:\n",
    "    branch = 0\n",
    "    \n",
    "    def __init__(self,name):\n",
    "        self.name = name\n",
    "        # # For every new instance the Branch class variable will increase\n",
    "        # # This belongs to a class method because we're modifying the actual class\n",
    "        # Book.branch += 1\n",
    "    \n",
    "    # Class methods are used to modify/change Class attr or variables    \n",
    "    @classmethod\n",
    "    def update_branch(cls):\n",
    "        # Updating the class method\n",
    "        cls.branch += 1\n",
    "    \n",
    "    # Static methods don't need self or cls because it's just a helper function\n",
    "    @staticmethod\n",
    "    def add(a,b):\n",
    "        return a+b \n",
    "\n",
    "b = Book('Harry Potter 2')\n",
    "b.update_branch()\n",
    "print(b.branch)  # Now this will update the branch class variable \n",
    "\n",
    "b1 = Book('Harry Potter 3')\n",
    "print(b1.branch)    # This will also be 1 because class variable stored in memory \n",
    "b.update_branch()\n",
    "print(b.branch)\n",
    "    "
   ],
   "id": "188eb461330cb9ca",
   "outputs": [
    {
     "name": "stdout",
     "output_type": "stream",
     "text": [
      "1\n",
      "1\n",
      "2\n"
     ]
    }
   ],
   "execution_count": 11
  },
  {
   "metadata": {},
   "cell_type": "markdown",
   "source": [
    "# Custom Exception \n",
    "\n",
    "*Base Exception*\n",
    "- *Exception*\n",
    "    - AttributeError\n",
    "    - Arithmetic\n",
    "    - ValueError \n",
    "    - Lookup Error  \n",
    "- *KeyboardInterrupt*\n",
    "\n",
    "These are classes and use that class to become an **exception** \n",
    "\n",
    "**Assert** \n",
    "\n",
    "`assert (condition), \"message if False/Failed\"`\n"
   ],
   "id": "8be7d10118dbad8e"
  },
  {
   "metadata": {
    "ExecuteTime": {
     "end_time": "2025-01-31T16:43:21.978302Z",
     "start_time": "2025-01-31T16:43:21.961596Z"
    }
   },
   "cell_type": "code",
   "source": [
    "# Assert\n",
    "n = -5 \n",
    "\n",
    "# Assert must be True (Correct condition)\n",
    "# Since -5 is not greater than 0, we write a custom message saying the number should be positive\n",
    "assert (n > 0), \"Number should be positive\""
   ],
   "id": "600c3716b247e13b",
   "outputs": [
    {
     "ename": "AssertionError",
     "evalue": "Number should be positive",
     "output_type": "error",
     "traceback": [
      "\u001B[1;31m---------------------------------------------------------------------------\u001B[0m",
      "\u001B[1;31mAssertionError\u001B[0m                            Traceback (most recent call last)",
      "Cell \u001B[1;32mIn[19], line 5\u001B[0m\n\u001B[0;32m      2\u001B[0m n \u001B[38;5;241m=\u001B[39m \u001B[38;5;241m-\u001B[39m\u001B[38;5;241m5\u001B[39m \n\u001B[0;32m      4\u001B[0m \u001B[38;5;66;03m# Assert must be True (Correct condition)\u001B[39;00m\n\u001B[1;32m----> 5\u001B[0m \u001B[38;5;28;01massert\u001B[39;00m (n \u001B[38;5;241m>\u001B[39m \u001B[38;5;241m0\u001B[39m), \u001B[38;5;124m\"\u001B[39m\u001B[38;5;124mNumber should be positive\u001B[39m\u001B[38;5;124m\"\u001B[39m\n",
      "\u001B[1;31mAssertionError\u001B[0m: Number should be positive"
     ]
    }
   ],
   "execution_count": 19
  },
  {
   "metadata": {
    "ExecuteTime": {
     "end_time": "2025-01-31T16:50:56.223745Z",
     "start_time": "2025-01-31T16:50:56.217648Z"
    }
   },
   "cell_type": "code",
   "source": [
    "# Custom Exception \n",
    "class NotPositiveError(Exception):\n",
    "    pass\n",
    "\n",
    "def isPositve(n):\n",
    "    if n < 0:\n",
    "        # Raising our own error\n",
    "        raise NotPositiveError(f'Error: {n} is not positive number')\n",
    "    else:\n",
    "        return n\n",
    "    \n",
    "try:\n",
    "    result = isPositve(-10)\n",
    "except NotPositiveError as e:\n",
    "    print(e)\n",
    "# Remember we still have an \"else\" block to do something after try works \n",
    "# We also have \"finally\" block to always run\n",
    "else:\n",
    "    print(result) \n",
    "finally:\n",
    "    print('Try Except Done (Runs no matter what)')"
   ],
   "id": "d049e35406198f1a",
   "outputs": [
    {
     "name": "stdout",
     "output_type": "stream",
     "text": [
      "Error: -10 is not positive number\n",
      "Try Except Done (Runs no matter what)\n"
     ]
    }
   ],
   "execution_count": 27
  },
  {
   "metadata": {
    "ExecuteTime": {
     "end_time": "2025-01-31T17:03:48.166491Z",
     "start_time": "2025-01-31T17:03:48.159912Z"
    }
   },
   "cell_type": "code",
   "source": [
    "# Double Error handle\n",
    "def divide(a,b):\n",
    "    try:\n",
    "        if b ==0:\n",
    "            raise ZeroDivisionError('Division by zero')\n",
    "        else:\n",
    "            return a/b\n",
    "    except ZeroDivisionError as e:\n",
    "        print(f'Child Caught Error: {e}')\n",
    "        # Now inside the local scope we already handled the error\n",
    "        # If we raise again the parent try/execpt will handle AS WELL \n",
    "        raise e\n",
    "try:\n",
    "    divide(1,0)\n",
    "except ZeroDivisionError as e:\n",
    "    print('Parent Handle Error', e)"
   ],
   "id": "e00b338dab0f09ca",
   "outputs": [
    {
     "name": "stdout",
     "output_type": "stream",
     "text": [
      "Child Caught Error: Division by zero\n",
      "Parent Handle Error Division by zero\n"
     ]
    }
   ],
   "execution_count": 30
  },
  {
   "metadata": {
    "ExecuteTime": {
     "end_time": "2025-01-31T17:25:20.606632Z",
     "start_time": "2025-01-31T17:25:20.596630Z"
    }
   },
   "cell_type": "code",
   "source": [
    "from colorama import Fore,Style\n",
    "\n",
    "class NotNegativeError(Exception):\n",
    "    pass\n",
    "\n",
    "def isNegative(n):\n",
    "    if n >= 0:\n",
    "        raise NotNegativeError(f'Error: {n} is not negative')\n",
    "    \n",
    "try:\n",
    "    a = 10 \n",
    "    isNegative(a)\n",
    "    result = a \n",
    "    print(result)\n",
    "except NotNegativeError as e:\n",
    "    # Styling \n",
    "    print(Fore.RED + str(e) + Style.RESET_ALL)\n",
    "    # You could also force exit\n",
    "    exit(1)\n",
    "\n",
    "print('Doing something else')"
   ],
   "id": "db9fdc7d9fdeac72",
   "outputs": [
    {
     "name": "stdout",
     "output_type": "stream",
     "text": [
      "\u001B[31mError: 10 is not negative\u001B[0m\n",
      "Doing something else\n"
     ]
    }
   ],
   "execution_count": 35
  },
  {
   "metadata": {},
   "cell_type": "markdown",
   "source": "",
   "id": "f2cd4c2bca6e90b8"
  },
  {
   "metadata": {},
   "cell_type": "markdown",
   "source": [
    "# MySQL Database\n",
    "\n",
    "---\n",
    "\n",
    "**T-SQL** vs **DDL (Data Definition Language)**\n",
    "- **DML** -> Data Manipulation \n",
    "    - Updates on Database | Inserting  \n",
    "- **DCL** -> Data Control \n",
    "- **TCL** -> Transaction Control\n",
    "\n",
    "**Tables** have *columns* and *rows* \n",
    "\n",
    "# Creating Database \n",
    "\n",
    "`create database database_name`\n",
    "\n",
    "**use** the database\n",
    "\n",
    "You could also update the character set (change encoding):\n",
    "\n",
    "```mysql\n",
    "\n",
    "alter database tekbasic_training\n",
    "character set utf8\n",
    "collate utf8_general_ci\n",
    "\n",
    "```\n",
    "\n",
    "let's **create a table** \n",
    "```mysql\n",
    "create table table_name(\n",
    "    c1 int,\n",
    "    c2 char(5)\n",
    ")\n",
    "```\n",
    "\n",
    "# Optional Assignment"
   ],
   "id": "78cb5803e19507d2"
  },
  {
   "metadata": {},
   "cell_type": "code",
   "outputs": [],
   "execution_count": null,
   "source": "",
   "id": "e502e2f0f0c3f514"
  }
 ],
 "metadata": {
  "kernelspec": {
   "display_name": "Python 3",
   "language": "python",
   "name": "python3"
  },
  "language_info": {
   "codemirror_mode": {
    "name": "ipython",
    "version": 2
   },
   "file_extension": ".py",
   "mimetype": "text/x-python",
   "name": "python",
   "nbconvert_exporter": "python",
   "pygments_lexer": "ipython2",
   "version": "2.7.6"
  }
 },
 "nbformat": 4,
 "nbformat_minor": 5
}
