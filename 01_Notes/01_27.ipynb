{
 "cells": [
  {
   "metadata": {},
   "cell_type": "markdown",
   "source": [
    "# January 27th Notes\n",
    "\n",
    "---\n",
    "\n",
    "Introduction\n"
   ],
   "id": "ec2ae82b32abde16"
  },
  {
   "metadata": {},
   "cell_type": "markdown",
   "source": [
    "## Stack \n",
    "\n",
    "Main Program\n",
    "- Python **(Core)**\n",
    "    - Evaluation solve problem (provide solution) \n",
    "    - Based on how well you **solve that problem** \n",
    "- MongoDB, MYSQL\n",
    "    - Connecting Python with **MySQL**  \n",
    "    - First week (introduction)\n",
    "- Django (RESTFramework)\n",
    "    - Possible FastAPI  \n",
    "- React - Frontend \n",
    "    - Projects  \n",
    "- Machine Learning / Application of AI\n",
    "    - Different Model (Linear Regression, Decision Making Tree)  \n",
    "    - Generative AI (Assistance of AI to generate / cleaning code) \n",
    "        - Debugging as well  \n",
    "    - Stats\n",
    "- AWS - Cloud Computing\n",
    "    -   Publish our application (Cloud Services) Hosting web to present it.    "
   ],
   "id": "be0f8a0c43ea4485"
  },
  {
   "metadata": {},
   "cell_type": "markdown",
   "source": [
    "## Interview Evaluation\n",
    "\n",
    "Pass the Paper evaluation + Call after for **soft skill** **interview evaluation** \n",
    "\n",
    "---\n",
    "\n",
    "## Brightrace \n",
    "\n",
    "[Brightrace Program](https://www.brightrace.com/ui/)\n",
    "\n",
    "Demo session would have some code\n",
    "\n",
    "Materials = PPT\n",
    "Assignement = Zip all solution to file and submit in Assignment \n",
    "\n",
    "We access it by click on:\n",
    "- \"Registered Program\"\n",
    "- Click on the content \n",
    "- **Course Details**\n",
    "- **Sessions**\n",
    "- From there you'll see assignments recordings etc...\n",
    "---\n",
    "\n",
    "**Assignment must be in ZIP** so that they can run/test your code\n",
    "\n",
    "---\n"
   ],
   "id": "31473659f3e049aa"
  },
  {
   "metadata": {},
   "cell_type": "markdown",
   "source": [
    "# Python\n",
    "\n",
    "---\n",
    "\n",
    "### Features \n",
    "\n",
    "- **No type declarations**\n",
    "- **Automatic Memory management** \n",
    "    - Garbage Collection (no need to cleanup)\n",
    "- **OOP**\n",
    "    - Creating operation with Class (initialize instance of object)\n",
    "        - Inheritance \n",
    "        - Abstraction \n",
    "        - Encapsulation\n",
    "        - Polymorphism \n",
    "- **Best for Automation** \n",
    "    - Scripting Language for Automation \n",
    "    - Server will host this automation  \n",
    "- **Support Multithreading + exception handling**\n",
    "- **Web dev (Django, Flask)**\n",
    "- **Cross-platform**\n",
    "\n",
    "---"
   ],
   "id": "5db26060839d0617"
  },
  {
   "metadata": {},
   "cell_type": "markdown",
   "source": [
    "## Python Introduction \n",
    "\n",
    "```python\n",
    "print('Hello')\n",
    "```\n",
    "\n",
    "```python\n",
    "print(\"Hello\"); print(\"world\")  # Semicolon to trick it becoming 2 sep statement\n",
    "```\n",
    "\n",
    "**Interpreter** vs **Compiler** \n",
    "- Interpreter --> Runs right away \n",
    "    - **Source Code** (Python **Human Readable**) --> **Interpreter** compiles code into **Byte Code** if we have **multiple files**\n",
    "    -  `python -m py_compile file_name.py` \n",
    "        - **bytecode** file --> **.pyc extension**\n",
    "        - You could actually run that bytecode file as well\n",
    "- compile everything together before it can run \n",
    "    - **Source Code** (Java/C++ File **Human Readable**) --> **Byte Code** (Class File **Machine Readable**)--> Output  \n",
    "\n",
    "---\n",
    "\n",
    "Python is an **interpreted** language in the general scheme but there are **some compiling** in the background especially if we're using multiple files. \n"
   ],
   "id": "94c6c853f6db808a"
  },
  {
   "metadata": {
    "ExecuteTime": {
     "end_time": "2025-01-27T17:17:32.531362Z",
     "start_time": "2025-01-27T17:17:30.178485Z"
    }
   },
   "cell_type": "code",
   "source": [
    "# Built-in Function\n",
    "print('Hello')\n",
    "\n",
    "'''\n",
    "Triple \n",
    "Multiple\n",
    "Line\n",
    "Comment\n",
    "'''\n",
    "\n",
    "# Multiple statement on one line \n",
    "print(\"Hello\"); print(\"world\")  # Semicolon to trick it becoming 2 sep statement\n",
    "\n",
    "# Grabbing User values \n",
    "input('Enter name please')"
   ],
   "id": "2099ff9992e319de",
   "outputs": [
    {
     "name": "stdout",
     "output_type": "stream",
     "text": [
      "Hello\n",
      "Hello\n",
      "world\n"
     ]
    },
    {
     "data": {
      "text/plain": [
       "'Justin'"
      ]
     },
     "execution_count": 3,
     "metadata": {},
     "output_type": "execute_result"
    }
   ],
   "execution_count": 3
  },
  {
   "metadata": {},
   "cell_type": "markdown",
   "source": "",
   "id": "66ce6964187baa7b"
  },
  {
   "metadata": {},
   "cell_type": "markdown",
   "source": [
    "## Python Indentation \n",
    "\n",
    "Indentation language because it's based on **indentations** to work (or else indentation error) \n",
    "\n",
    "**PEP8** 4 single spaces for indentation \n",
    "\n",
    "## Python text breaks \n",
    "- Str + \\ Str \n",
    "\n",
    "---\n",
    "\n",
    "**Built in functions**\n",
    "**Comments / Multiline comment** \n",
    "**; to single line** \n",
    "**Open/Read files**"
   ],
   "id": "9a911147d9cee24a"
  },
  {
   "metadata": {
    "ExecuteTime": {
     "end_time": "2025-01-27T17:21:02.984149Z",
     "start_time": "2025-01-27T17:21:02.977819Z"
    }
   },
   "cell_type": "code",
   "source": [
    "with open('data.txt', 'r') as f:\n",
    "    # Indentation \n",
    "    print(f.read()) # Inside the data file \n",
    "    print(f.name)"
   ],
   "id": "931faf1a4d67078e",
   "outputs": [
    {
     "name": "stdout",
     "output_type": "stream",
     "text": [
      "Hello Opening File\n",
      "data.txt\n"
     ]
    }
   ],
   "execution_count": 6
  },
  {
   "metadata": {
    "ExecuteTime": {
     "end_time": "2025-01-27T17:25:06.706378Z",
     "start_time": "2025-01-27T17:25:06.701253Z"
    }
   },
   "cell_type": "code",
   "source": [
    "# Text is long \n",
    "text = \"this is \" + \\\n",
    "       \"A very \" + \\\n",
    "       \"long text\" \n",
    "\n",
    "print(text)"
   ],
   "id": "2cbc0cbf1ed5c299",
   "outputs": [
    {
     "name": "stdout",
     "output_type": "stream",
     "text": [
      "this is A very long text\n"
     ]
    }
   ],
   "execution_count": 8
  },
  {
   "metadata": {},
   "cell_type": "markdown",
   "source": [
    "# Variables \n",
    "\n",
    "**Alias Name** to hold values \n",
    "\n",
    "Provides us to handle the **value**. Basically makes it more ideal for us to be more dynamic "
   ],
   "id": "cc4bc558807cddb6"
  },
  {
   "metadata": {
    "ExecuteTime": {
     "end_time": "2025-01-27T17:53:01.818552Z",
     "start_time": "2025-01-27T17:53:01.812758Z"
    }
   },
   "cell_type": "code",
   "source": [
    "a = 1 \n",
    "print(type(a))\n",
    "b = 10.1 \n",
    "print(type(b))\n",
    "c = 3 + 4j  # Imaginary I is J in programming \n",
    "print(c, type(c)) # data type Complex \n",
    "\n",
    "# Different ways to declare int\n",
    "a = 0b10    #  \n",
    "a2 = 0o31    # Oct\n",
    "a3 = 0xff    # "
   ],
   "id": "43db0eb327775437",
   "outputs": [
    {
     "name": "stdout",
     "output_type": "stream",
     "text": [
      "<class 'int'>\n",
      "<class 'float'>\n",
      "(3+4j) <class 'complex'>\n"
     ]
    }
   ],
   "execution_count": 9
  },
  {
   "metadata": {},
   "cell_type": "markdown",
   "source": [
    "# Memory Reference Address\n",
    "\n",
    "`id()`\n",
    "\n",
    "Mem Address using `id()` however Python will be efficient and have the same *ID* if the values are the same. \n",
    "\n",
    "This will eventually stop if the **number is big**. Unless we're on the **compiler** it will remember all the values.\n",
    "\n",
    "So basically **different** in **interpreter** vs **compiler**"
   ],
   "id": "b7507faf2a29d0c"
  },
  {
   "metadata": {
    "ExecuteTime": {
     "end_time": "2025-01-27T18:06:49.089063Z",
     "start_time": "2025-01-27T18:06:49.084379Z"
    }
   },
   "cell_type": "code",
   "source": [
    "b = 10 \n",
    "print(id(b))\n",
    "c = 10 \n",
    "print(id(c))\n"
   ],
   "id": "793309e257980653",
   "outputs": [
    {
     "name": "stdout",
     "output_type": "stream",
     "text": [
      "140731769158360\n",
      "140731769158360\n"
     ]
    }
   ],
   "execution_count": 11
  },
  {
   "metadata": {},
   "cell_type": "markdown",
   "source": [
    "## Python String \n",
    "\n",
    "You could use `\"\"` double quotes or `''` single quotes \n",
    "\n",
    "UTF-8 code `\\u` code (useful to display special characters)  \n",
    "- `\"\\u0061\"` \n",
    "\n",
    "*You could just use `chr(dec)` instead*\n",
    "\n",
    "---\n",
    "\n",
    "## Decode / Encode (UTF-8)\n",
    "\n",
    "`.decode('utf-8')` and `.encode('utf-8')`\n",
    "\n",
    "You could also use `bytearray`\n",
    "`a = bytearray([97,98,99])`\n"
   ],
   "id": "b63e01d3a80e7ea2"
  },
  {
   "metadata": {
    "ExecuteTime": {
     "end_time": "2025-01-27T18:23:43.511424Z",
     "start_time": "2025-01-27T18:23:43.505672Z"
    }
   },
   "cell_type": "code",
   "source": [
    "# Strings \n",
    "\n",
    "a = 'first string'\n",
    "print(a)\n",
    "# Complicated strings\n",
    "b = '''\"third string\"'''\n",
    "print(b)\n",
    "c = \"\"\"'fourth string'\"\"\"\n",
    "print(c)\n",
    "# UTF-8 code\n",
    "print('\\u00f8'); print('\\u0086'); print(chr(137))\n",
    "\n",
    "\n",
    "# Decode and Encode \n",
    "sec_char = b'binary msg' \n",
    "b = sec_char.decode('utf-8')\n",
    "print(sec_char,b)\n",
    "\n",
    "enc_char = 'msg to encode'\n",
    "b = enc_char.encode('utf-8')\n",
    "print(b)"
   ],
   "id": "3833f18d20053969",
   "outputs": [
    {
     "name": "stdout",
     "output_type": "stream",
     "text": [
      "first string\n",
      "\"third string\"\n",
      "'fourth string'\n",
      "ø\n",
      "\n",
      "\n",
      "b'binary msg' binary msg\n",
      "b'msg to encode'\n"
     ]
    }
   ],
   "execution_count": 24
  },
  {
   "metadata": {
    "ExecuteTime": {
     "end_time": "2025-01-27T18:27:52.887872Z",
     "start_time": "2025-01-27T18:27:52.882450Z"
    }
   },
   "cell_type": "code",
   "source": [
    "# Memory View\n",
    "mv = memoryview(bytearray([97,98,99]))\n",
    "print(mv[0])"
   ],
   "id": "1ed9bee48d15c6dd",
   "outputs": [
    {
     "name": "stdout",
     "output_type": "stream",
     "text": [
      "97\n"
     ]
    }
   ],
   "execution_count": 27
  },
  {
   "metadata": {},
   "cell_type": "markdown",
   "source": [
    "## Python Boolean\n",
    "\n",
    "Good if we're working with **conditional** statements"
   ],
   "id": "aa3dca558bb43824"
  },
  {
   "metadata": {
    "ExecuteTime": {
     "end_time": "2025-01-27T18:29:01.923329Z",
     "start_time": "2025-01-27T18:29:01.916514Z"
    }
   },
   "cell_type": "code",
   "source": [
    "a = True \n",
    "b = False \n",
    "print(a, type(a)); print(b, type(b))"
   ],
   "id": "eb0e90b30a7050bb",
   "outputs": [
    {
     "name": "stdout",
     "output_type": "stream",
     "text": [
      "True <class 'bool'>\n",
      "False <class 'bool'>\n"
     ]
    }
   ],
   "execution_count": 28
  },
  {
   "metadata": {
    "ExecuteTime": {
     "end_time": "2025-01-27T18:31:16.330033Z",
     "start_time": "2025-01-27T18:31:16.324229Z"
    }
   },
   "cell_type": "code",
   "source": [
    "# Multiple Declaration (works with string values you)\n",
    "a,b = 1,2\n",
    "print(a,b)\n",
    "\n",
    "# Swapping \n",
    "a,b = b,a\n",
    "print(a,b)\n",
    "\n"
   ],
   "id": "45b0026762813cd6",
   "outputs": [
    {
     "name": "stdout",
     "output_type": "stream",
     "text": [
      "1 2\n",
      "2 1\n"
     ]
    }
   ],
   "execution_count": 32
  },
  {
   "metadata": {},
   "cell_type": "code",
   "outputs": [],
   "execution_count": null,
   "source": "",
   "id": "c24738bbdd09a486"
  }
 ],
 "metadata": {
  "kernelspec": {
   "display_name": "Python 3",
   "language": "python",
   "name": "python3"
  },
  "language_info": {
   "codemirror_mode": {
    "name": "ipython",
    "version": 2
   },
   "file_extension": ".py",
   "mimetype": "text/x-python",
   "name": "python",
   "nbconvert_exporter": "python",
   "pygments_lexer": "ipython2",
   "version": "2.7.6"
  }
 },
 "nbformat": 4,
 "nbformat_minor": 5
}
