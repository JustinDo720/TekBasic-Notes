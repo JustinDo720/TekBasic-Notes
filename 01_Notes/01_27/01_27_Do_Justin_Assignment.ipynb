{
 "cells": [
  {
   "metadata": {},
   "cell_type": "markdown",
   "source": [
    "# 2) Write a script which can ceil and floor given value without using any python built-in functions.\n",
    "\n",
    "---"
   ],
   "id": "59fb812c561d84f2"
  },
  {
   "cell_type": "code",
   "id": "initial_id",
   "metadata": {
    "collapsed": true,
    "ExecuteTime": {
     "end_time": "2025-01-28T03:36:32.196642Z",
     "start_time": "2025-01-28T03:36:32.188373Z"
    }
   },
   "source": [
    "# Ceil vs Floor (If greater than half then increase)\n",
    "ceil_val = 15.7\n",
    "floor_val = 15.3\n",
    "\n",
    "# We need to find the decimal number so... \n",
    "# We take the integer and subtract it with our values \n",
    "ceil_dec = ceil_val - int(ceil_val)     # float \n",
    "floor_dec = floor_val - int(floor_val)  # float\n",
    "\n",
    "if ceil_dec > 0.5:\n",
    "    # Round up \n",
    "    ceil_val = int(ceil_val) + 1\n",
    "else:\n",
    "    # Round Down \n",
    "    ceil_val = int(ceil_val)\n",
    "\n",
    "# Same logic with Floor except the condition \n",
    "if floor_dec > 0.5:\n",
    "    # Round up \n",
    "    floor_val = int(floor_val) + 1\n",
    "else:\n",
    "    # Round Down \n",
    "    floor_val = int(floor_val)\n",
    "\n",
    "print(ceil_val, floor_val)"
   ],
   "outputs": [
    {
     "name": "stdout",
     "output_type": "stream",
     "text": [
      "16 15\n"
     ]
    }
   ],
   "execution_count": 1
  },
  {
   "metadata": {},
   "cell_type": "markdown",
   "source": [
    "# 3) Swap two integers in a single line\n",
    "\n",
    "---"
   ],
   "id": "db95744535854dc0"
  },
  {
   "metadata": {
    "ExecuteTime": {
     "end_time": "2025-01-28T03:36:32.205375Z",
     "start_time": "2025-01-28T03:36:32.199658Z"
    }
   },
   "cell_type": "code",
   "source": [
    "a,b = 1,2 \n",
    "print(a,b)\n",
    "a,b = b,a \n",
    "print(a,b)"
   ],
   "id": "1dda319668f6987a",
   "outputs": [
    {
     "name": "stdout",
     "output_type": "stream",
     "text": [
      "1 2\n",
      "2 1\n"
     ]
    }
   ],
   "execution_count": 2
  },
  {
   "metadata": {},
   "cell_type": "markdown",
   "source": [
    "# 4) Asks user for name (Use Ternary Operator) \n",
    "\n",
    "Condition:\n",
    "- If my name (Justin) = 'This is a nice name'\n",
    "- 'John Cleese' or 'Michael Palin' = Custom Message\n",
    "- Else = 'You have a nice name'\n",
    "\n",
    "---"
   ],
   "id": "6f46c88b6ea12faa"
  },
  {
   "metadata": {
    "ExecuteTime": {
     "end_time": "2025-01-28T03:36:38.257477Z",
     "start_time": "2025-01-28T03:36:32.207386Z"
    }
   },
   "cell_type": "code",
   "source": [
    "user_name = input('What is your name? ')\n",
    "\n",
    "message = ''\n",
    "# Checking if the user's name is John Cleese or Michael Plain\n",
    "message = \"That is a FUNNY name\" if user_name == 'John Cleese' or user_name == 'Michael Plain' else \"You have a nice name\"\n",
    "# Their name must be either Unique or MY name \n",
    "if user_name == 'Justin':\n",
    "    # If it's my name then here's a different message\n",
    "    message = 'This is a nice name'\n",
    "\n",
    "print(user_name, message)"
   ],
   "id": "5edd235c0145d832",
   "outputs": [
    {
     "name": "stdout",
     "output_type": "stream",
     "text": [
      "Thy You have a nice name\n"
     ]
    }
   ],
   "execution_count": 3
  },
  {
   "metadata": {},
   "cell_type": "markdown",
   "source": [
    "# 5) 60% off sale \n",
    "\n",
    "Show a table with **Original Price**, **Discount Amount**, **New Price for purchases**\n",
    "\n",
    "`prices = [4.95, 9.95, 14.95, 19.95, 24.95]`\n",
    "\n",
    "*Rounded to 2 decimal places* (prob have to use round for this)"
   ],
   "id": "79df355170059c60"
  },
  {
   "metadata": {
    "ExecuteTime": {
     "end_time": "2025-01-28T03:36:38.266618Z",
     "start_time": "2025-01-28T03:36:38.259494Z"
    }
   },
   "cell_type": "code",
   "source": [
    "# Let's print the headers for the table \n",
    "print('Original Price ', '| ', 'Discount Amount', '| ', 'New Price For Purchases')\n",
    "\n",
    "# This problem requires us to LOOP which means we need to use arrays\n",
    "prices = (4.95, 9.96, 14.95, 19.95, 24.95)\n",
    "\n",
    "for price in prices:\n",
    "    # Remember the discount is 60%; therefore, we *0.6\n",
    "    # round() function let's us choose the precision\n",
    "    discount_amount = round(price*0.60, 2)\n",
    "    new_price = round(price-discount_amount,2)\n",
    "    print('$',price, ' | ', '$', discount_amount, ' | ', '$', new_price)"
   ],
   "id": "9b99a938070b22d5",
   "outputs": [
    {
     "name": "stdout",
     "output_type": "stream",
     "text": [
      "Original Price  |  Discount Amount |  New Price For Purchases\n",
      "$ 4.95  |  $ 2.97  |  $ 1.98\n",
      "$ 9.96  |  $ 5.98  |  $ 3.98\n",
      "$ 14.95  |  $ 8.97  |  $ 5.98\n",
      "$ 19.95  |  $ 11.97  |  $ 7.98\n",
      "$ 24.95  |  $ 14.97  |  $ 9.98\n"
     ]
    }
   ],
   "execution_count": 4
  },
  {
   "metadata": {},
   "cell_type": "markdown",
   "source": [
    "# 6) Power Table \n",
    "\n",
    "A B Pow(a,b)\n",
    "\n",
    "*Can't use `**` or any built-in functions**"
   ],
   "id": "ba8db1bb27b9d332"
  },
  {
   "metadata": {
    "ExecuteTime": {
     "end_time": "2025-01-28T03:36:38.388212Z",
     "start_time": "2025-01-28T03:36:38.377636Z"
    }
   },
   "cell_type": "code",
   "source": [
    "# Let's print the headers for the table \n",
    "print('A ', '| ', 'B', '| ', 'Power')\n",
    "\n",
    "# Logic without arrays\n",
    "a2, b2 = 1,2\n",
    "c2 = 1  # placeholder\n",
    "\n",
    "for i in range(b2):\n",
    "    c2 *= a2\n",
    "    \n",
    "print(a2, ' | ', b2, ' | ', c2)\n",
    "\n",
    "# Logic without arrays\n",
    "a2, b2 = 2,3\n",
    "c2 = 1  # placeholder\n",
    "\n",
    "for i in range(b2):\n",
    "    c2 *= a2\n",
    "    \n",
    "print(a2, ' | ', b2, ' | ', c2)\n",
    "\n",
    "# Logic without arrays\n",
    "a2, b2 = 3,4\n",
    "c2 = 1  # placeholder\n",
    "\n",
    "for i in range(b2):\n",
    "    c2 *= a2\n",
    "    \n",
    "print(a2, ' | ', b2, ' | ', c2)\n",
    "\n",
    "# Logic without arrays\n",
    "a2, b2 = 4,5\n",
    "c2 = 1  # placeholder\n",
    "\n",
    "for i in range(b2):\n",
    "    # Multiple placeholder with a2, b2 many times\n",
    "    c2 *= a2\n",
    "    \n",
    "print(a2, ' | ', b2, ' | ', c2)\n",
    "\n",
    "# Logic without arrays\n",
    "a2, b2 = 5,6\n",
    "c2 = 1  # placeholder\n",
    "\n",
    "for i in range(b2):\n",
    "    # Multiple placeholder with a2, b2 many times\n",
    "    c2 *= a2\n",
    "    \n",
    "print(a2, ' | ', b2, ' | ', c2)"
   ],
   "id": "bc97155e5aa724e4",
   "outputs": [
    {
     "name": "stdout",
     "output_type": "stream",
     "text": [
      "A  |  B |  Power\n",
      "1  |  2  |  1\n",
      "2  |  3  |  8\n",
      "3  |  4  |  81\n",
      "4  |  5  |  1024\n",
      "5  |  6  |  15625\n"
     ]
    }
   ],
   "execution_count": 5
  },
  {
   "metadata": {
    "ExecuteTime": {
     "end_time": "2025-01-28T03:36:38.544406Z",
     "start_time": "2025-01-28T03:36:38.533853Z"
    }
   },
   "cell_type": "code",
   "source": [
    "# Let's print the headers for the table \n",
    "print('A ', '| ', 'B', '| ', 'Power')\n",
    "# Let's try to shorten it down since A B increases by 1 everytime \n",
    "a,b = 1,2\n",
    "while True:\n",
    "    # Make display values different from our actual values \n",
    "    # This is because we don't want to change our counter val for While loop \n",
    "    a2,b2 = a,b\n",
    "    c2 = 1  # placeholder\n",
    "    for i in range(b2):\n",
    "        # Multiple placeholder with a2, b2 many times\n",
    "        c2 *= a2\n",
    "    print(a2, ' | ', b2, ' | ', c2)\n",
    "    # We'll break when A = 5 and B = 6\n",
    "    if a == 5 and b == 6:\n",
    "        break\n",
    "    else:\n",
    "        # Increment to keep the loop going \n",
    "        a+=1\n",
    "        b+=1\n"
   ],
   "id": "ce3f99c9eab04046",
   "outputs": [
    {
     "name": "stdout",
     "output_type": "stream",
     "text": [
      "A  |  B |  Power\n",
      "1  |  2  |  1\n",
      "2  |  3  |  8\n",
      "3  |  4  |  81\n",
      "4  |  5  |  1024\n",
      "5  |  6  |  15625\n"
     ]
    }
   ],
   "execution_count": 6
  },
  {
   "metadata": {},
   "cell_type": "markdown",
   "source": [
    "# 7) Game:Lottery \n",
    "\n",
    "Conditions:\n",
    "    \n",
    "If all digits in exact order: $10,000\n",
    "\n",
    "If all digits in lottery number: $3,000\n",
    "\n",
    "If one digit in lottery number: $1,000"
   ],
   "id": "7af6887f1bc5a3e7"
  },
  {
   "metadata": {
    "ExecuteTime": {
     "end_time": "2025-01-28T03:36:45.353739Z",
     "start_time": "2025-01-28T03:36:38.728201Z"
    }
   },
   "cell_type": "code",
   "source": [
    "# Collect their lottery number\n",
    "user_lottery = input('Your lottery numbers: ')\n",
    "WINNING_LOTTERY = '367'\n",
    "\n",
    "result = ''\n",
    "\n",
    "# If the lottery is exactly the same (same digits and position) then we have the max prize\n",
    "if user_lottery == WINNING_LOTTERY:\n",
    "    result = '$10,000'\n",
    "else:\n",
    "    digits = 0\n",
    "    # Count the amount of correct digits\n",
    "    for num in user_lottery:\n",
    "        if num in WINNING_LOTTERY:\n",
    "            digits += 1\n",
    "    \n",
    "    # Account for:\n",
    "    # 1 digit in user_lottery \n",
    "    # all 3 digits in user_lottery \n",
    "    result = '$1,000' if digits == 2 or digits == 1 else '$3,000'\n",
    "    \n",
    "print('Your prize money is: ', result)"
   ],
   "id": "a9c51a5f4c315736",
   "outputs": [
    {
     "name": "stdout",
     "output_type": "stream",
     "text": [
      "Your prize money is:  $10,000\n"
     ]
    }
   ],
   "execution_count": 7
  },
  {
   "metadata": {},
   "cell_type": "markdown",
   "source": "# 8) Largest Number (Count occurrences) ",
   "id": "38d40ea7ce62462b"
  },
  {
   "metadata": {
    "ExecuteTime": {
     "end_time": "2025-01-28T03:36:45.362754Z",
     "start_time": "2025-01-28T03:36:45.355760Z"
    }
   },
   "cell_type": "code",
   "source": [
    "# While loop (Count occurrence) but if another number is bigger then we reset \n",
    "numbers = '3525550'\n",
    "occur = 0\n",
    "largest_num = 0\n",
    "\n",
    "for num in numbers:\n",
    "    # Finding the largest number\n",
    "    if int(num) > largest_num:\n",
    "        # Reset occur counter \n",
    "        occur = 0\n",
    "        largest_num = int(num)\n",
    "    \n",
    "    if int(num) == largest_num:\n",
    "        occur += 1\n",
    "\n",
    "print(largest_num, ' occured ', occur, ' times.')"
   ],
   "id": "239904784f248801",
   "outputs": [
    {
     "name": "stdout",
     "output_type": "stream",
     "text": [
      "5  occured  4  times.\n"
     ]
    }
   ],
   "execution_count": 8
  },
  {
   "metadata": {},
   "cell_type": "markdown",
   "source": "# 9) Star Triangle ",
   "id": "304da739810d9ef3"
  },
  {
   "metadata": {
    "ExecuteTime": {
     "end_time": "2025-01-28T03:36:45.458060Z",
     "start_time": "2025-01-28T03:36:45.452754Z"
    }
   },
   "cell_type": "code",
   "source": [
    "for row_star in range(1,6):\n",
    "    # To add spaces you need to calculate them before printing the star \n",
    "    spaces = 5-row_star\n",
    "    for star in range(row_star):\n",
    "        # Printing all the stars in each row \n",
    "        print(' ' * spaces + '*', end=' ')\n",
    "    print(' ')"
   ],
   "id": "5c18e3be4b6043eb",
   "outputs": [
    {
     "name": "stdout",
     "output_type": "stream",
     "text": [
      "    *  \n",
      "   *    *  \n",
      "  *   *   *  \n",
      " *  *  *  *  \n",
      "* * * * *  \n"
     ]
    }
   ],
   "execution_count": 9
  },
  {
   "metadata": {},
   "cell_type": "markdown",
   "source": [
    "# 10) Number Reflection \n",
    "\n",
    "1-7\n",
    "2-7\n",
    "3-7\n",
    "...\n",
    "3-7\n",
    "2-7\n",
    "1-7"
   ],
   "id": "4ba0ae9518f9dfa"
  },
  {
   "metadata": {
    "ExecuteTime": {
     "end_time": "2025-01-28T03:36:45.539621Z",
     "start_time": "2025-01-28T03:36:45.533081Z"
    }
   },
   "cell_type": "code",
   "source": [
    "# Top Bottom\n",
    "for num in range(1,8):\n",
    "    # Don't print the 7 here \n",
    "    if num !=7:\n",
    "        for sub_num in range(num,8):\n",
    "            print(sub_num, end=' ')\n",
    "        print()\n",
    "# Bottom Top \n",
    "for num in range(8,0,-1):\n",
    "    # Remember to print the 7 here\n",
    "    # Prints backwards so starts at 7,6,5,4....\n",
    "    for sub_num in range(num, 8):\n",
    "        print(sub_num, end=' ')\n",
    "    print()"
   ],
   "id": "5518f80308790450",
   "outputs": [
    {
     "name": "stdout",
     "output_type": "stream",
     "text": [
      "1 2 3 4 5 6 7 \n",
      "2 3 4 5 6 7 \n",
      "3 4 5 6 7 \n",
      "4 5 6 7 \n",
      "5 6 7 \n",
      "6 7 \n",
      "\n",
      "7 \n",
      "6 7 \n",
      "5 6 7 \n",
      "4 5 6 7 \n",
      "3 4 5 6 7 \n",
      "2 3 4 5 6 7 \n",
      "1 2 3 4 5 6 7 \n"
     ]
    }
   ],
   "execution_count": 10
  },
  {
   "metadata": {},
   "cell_type": "markdown",
   "source": [
    "# 11) Phone Keypads\n",
    "\n",
    "Internation letter/number mapping \n",
    "\n",
    "1-800-Flowers \n",
    "\n",
    "2: ABC \n",
    "3: DEF\n",
    "4: GHI \n",
    "5: JKL\n",
    "6: MNO \n",
    "7: PQRS\n",
    "8: TUV \n",
    "9: WXYZ \n",
    "\n",
    "Without using a *hashmap* maybe we could elif?\n",
    "\n",
    "Hardest part is **replacing** the letters with digits. We use the `replace()` function which replaces all of those letters with the respective number."
   ],
   "id": "c5c36ad93b91066b"
  },
  {
   "metadata": {
    "ExecuteTime": {
     "end_time": "2025-01-28T03:36:51.940684Z",
     "start_time": "2025-01-28T03:36:45.695618Z"
    }
   },
   "cell_type": "code",
   "source": [
    "# By changing all inputs to UPPER we'll make sure the elif statement works for (upper or lower case)\n",
    "user_phone = input('Your Phone Number: ').upper()\n",
    "print(user_phone)\n",
    "\n",
    "for num_or_letter in user_phone:\n",
    "    if num_or_letter in 'ABC':\n",
    "        user_phone = user_phone.replace(num_or_letter, '2')\n",
    "    elif num_or_letter in 'DEF':\n",
    "        user_phone = user_phone.replace(num_or_letter, '3')\n",
    "    elif num_or_letter in 'GHI':\n",
    "        user_phone = user_phone.replace(num_or_letter, '4')\n",
    "    elif num_or_letter in 'JKL':\n",
    "        user_phone = user_phone.replace(num_or_letter, '5')\n",
    "    elif num_or_letter in 'MNO':\n",
    "        user_phone = user_phone.replace(num_or_letter, '6')\n",
    "    elif num_or_letter in 'PQRS':\n",
    "        user_phone = user_phone.replace(num_or_letter, '7')\n",
    "    elif num_or_letter in 'TUV':\n",
    "        user_phone = user_phone.replace(num_or_letter, '8')\n",
    "    elif num_or_letter in 'WXYZ':\n",
    "        user_phone = user_phone.replace(num_or_letter, '9')\n",
    "    \n",
    "user_phone"
   ],
   "id": "fc9a346c1dddd8bd",
   "outputs": [
    {
     "name": "stdout",
     "output_type": "stream",
     "text": [
      "1-800-FLOWERS\n"
     ]
    },
    {
     "data": {
      "text/plain": [
       "'1-800-3569377'"
      ]
     },
     "execution_count": 11,
     "metadata": {},
     "output_type": "execute_result"
    }
   ],
   "execution_count": 11
  },
  {
   "metadata": {},
   "cell_type": "markdown",
   "source": [
    "# 12) Display Prime Numbers Within A Range \n",
    "\n",
    "We know that Prime numbers:\n",
    "\n",
    "*Can only be divided by itself and 1*; therefore, any even number **besides** 2 are **NOT** prime numbers"
   ],
   "id": "8f34f8c6f7d52fbe"
  },
  {
   "metadata": {
    "ExecuteTime": {
     "end_time": "2025-01-28T03:36:51.951190Z",
     "start_time": "2025-01-28T03:36:51.942700Z"
    }
   },
   "cell_type": "code",
   "source": [
    "for num in range(100):\n",
    "    # 2 is always a prime number that ISN'T odd\n",
    "    if num == 2:\n",
    "        print(num, end=' ')\n",
    "    # 1 is NOT a prime number soo...\n",
    "    if num > 1 and not num % 2 == 0:\n",
    "        # Basically any odd number \n",
    "        # But we also need to check if any other digits could divide our \"odd\" number \n",
    "        # For instance 9 is an odd number but is also dividable by 3 \n",
    "        odd_prime = True \n",
    "        # The issue here is if you were to include the number that would make odd_prime False\n",
    "        # But we're only checking the other numbers not 1 or itself \n",
    "        for i in range(2, num):\n",
    "            if num % i == 0:\n",
    "                # Update our flag for our conditional statement\n",
    "                odd_prime = False\n",
    "                break \n",
    "        if odd_prime:\n",
    "            print(num, end=' ')"
   ],
   "id": "f63f1350b33a87d3",
   "outputs": [
    {
     "name": "stdout",
     "output_type": "stream",
     "text": [
      "2 3 5 7 11 13 17 19 23 29 31 37 41 43 47 53 59 61 67 71 73 79 83 89 97 "
     ]
    }
   ],
   "execution_count": 12
  },
  {
   "metadata": {},
   "cell_type": "markdown",
   "source": [
    "# 13) Reverse of a number \n",
    "\n",
    "Using indices is  better"
   ],
   "id": "34aa187c00a61445"
  },
  {
   "metadata": {
    "ExecuteTime": {
     "end_time": "2025-01-28T03:36:52.077942Z",
     "start_time": "2025-01-28T03:36:52.072184Z"
    }
   },
   "cell_type": "code",
   "source": [
    "num='12'    # Reverse would be 21\n",
    "# Start, Stop, Skip\n",
    "# We end up skipping backwards \n",
    "print(num[::-1])"
   ],
   "id": "5209f5a119c5b288",
   "outputs": [
    {
     "name": "stdout",
     "output_type": "stream",
     "text": [
      "21\n"
     ]
    }
   ],
   "execution_count": 13
  },
  {
   "metadata": {},
   "cell_type": "markdown",
   "source": [
    "# 14) Calculate Total Numbers of Days Between two dates \n",
    "\n",
    "datetime module"
   ],
   "id": "5c61ffe08b857f15"
  },
  {
   "metadata": {
    "ExecuteTime": {
     "end_time": "2025-01-28T03:36:52.133187Z",
     "start_time": "2025-01-28T03:36:52.127968Z"
    }
   },
   "cell_type": "code",
   "source": [
    "import datetime \n",
    "\n",
    "# Two dates\n",
    "# Year, Month, Day (May 2, 1996)\n",
    "d1 = datetime.datetime(1996, 5, 2)\n",
    "# Year, Month, Day \n",
    "d2 = datetime.datetime(2001, 7, 20)\n",
    "\n",
    "print('There are: ', (d2-d1).days, 'days between ', d2.strftime('%B, %d, %Y'), ' and ', d1.strftime('%B, %d, %Y'))"
   ],
   "id": "a5bb02d88fa5f220",
   "outputs": [
    {
     "name": "stdout",
     "output_type": "stream",
     "text": [
      "There are:  1905 days between  July, 20, 2001  and  May, 02, 1996\n"
     ]
    }
   ],
   "execution_count": 14
  },
  {
   "metadata": {},
   "cell_type": "markdown",
   "source": "# 15) Generate product from 2 random numbers",
   "id": "a0ac7105a1fcfe39"
  },
  {
   "metadata": {
    "ExecuteTime": {
     "end_time": "2025-01-28T03:36:52.272210Z",
     "start_time": "2025-01-28T03:36:52.266206Z"
    }
   },
   "cell_type": "code",
   "source": [
    "from random import randint\n",
    "\n",
    "num1 = randint(1,100)\n",
    "num2 = randint(1,100)\n",
    "product = num1*num2\n",
    "\n",
    "print(product)"
   ],
   "id": "a16aae53b7e2860b",
   "outputs": [
    {
     "name": "stdout",
     "output_type": "stream",
     "text": [
      "950\n"
     ]
    }
   ],
   "execution_count": 15
  },
  {
   "metadata": {
    "ExecuteTime": {
     "end_time": "2025-01-28T03:36:52.338255Z",
     "start_time": "2025-01-28T03:36:52.334209Z"
    }
   },
   "cell_type": "code",
   "source": "",
   "id": "74946e189324b289",
   "outputs": [],
   "execution_count": 15
  }
 ],
 "metadata": {
  "kernelspec": {
   "display_name": "Python 3",
   "language": "python",
   "name": "python3"
  },
  "language_info": {
   "codemirror_mode": {
    "name": "ipython",
    "version": 2
   },
   "file_extension": ".py",
   "mimetype": "text/x-python",
   "name": "python",
   "nbconvert_exporter": "python",
   "pygments_lexer": "ipython2",
   "version": "2.7.6"
  }
 },
 "nbformat": 4,
 "nbformat_minor": 5
}
