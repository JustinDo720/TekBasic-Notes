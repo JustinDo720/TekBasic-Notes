{
 "cells": [
  {
   "metadata": {},
   "cell_type": "markdown",
   "source": [
    "# Assignment OOP\n",
    "\n",
    "---\n",
    "\n",
    "# 1) Generator\n",
    "\n",
    "Store all Person, Student, Employee, Faculty, Staff into dictionary \n"
   ],
   "id": "8443e44c515959ff"
  },
  {
   "cell_type": "code",
   "id": "initial_id",
   "metadata": {
    "collapsed": true,
    "ExecuteTime": {
     "end_time": "2025-01-29T20:26:30.445033Z",
     "start_time": "2025-01-29T20:26:30.438193Z"
    }
   },
   "source": [
    "# Storing info into dictionary \n",
    "data = {\n",
    "    'Person': ['a', 'b'],\n",
    "    'Student': ['c', 'd', 'e'],\n",
    "    'Faculty': ['f', 'g'],\n",
    "    'Staff': ['h', 'k'],\n",
    "    'Employee': ['l', 'm', 'n', 'o', 'p']\n",
    "}\n",
    "\n",
    "# We need to create a generator and what it does is it yields a value to us\n",
    "# Our function will take in the Category so like: Students, Employees, Faculties, Staffs\n",
    "# Then we iterate the values inside that list \n",
    "def dynamic_generator(category):\n",
    "    for obj in data[category]:\n",
    "        yield obj\n",
    "\n",
    "# Testing with next \n",
    "# CATEGORY = 'Student'\n",
    "# CATEGORY = 'Faculty'\n",
    "# CATEGORY = 'Staff'\n",
    "CATEGORY = 'Employee'\n",
    "# Make sure we assign gen to a variable (prevents from resetting)\n",
    "dg = dynamic_generator(CATEGORY)\n",
    "# Loop through the amount of objects within that specific category\n",
    "for num_obj in range(len(data[CATEGORY])):\n",
    "    print(next(dg))"
   ],
   "outputs": [
    {
     "name": "stdout",
     "output_type": "stream",
     "text": [
      "l\n",
      "m\n",
      "n\n",
      "o\n",
      "p\n"
     ]
    }
   ],
   "execution_count": 14
  },
  {
   "metadata": {},
   "cell_type": "markdown",
   "source": "# 2) Yields \"n\" random numbers between Low - High",
   "id": "dec342b30d75d521"
  },
  {
   "metadata": {
    "ExecuteTime": {
     "end_time": "2025-01-29T20:55:29.830990Z",
     "start_time": "2025-01-29T20:55:26.879831Z"
    }
   },
   "cell_type": "code",
   "source": [
    "import random \n",
    "\n",
    "# We need to create that generator that yields a number between two numbers\n",
    "# We know random(x,y) will yield a number between those range   random.randint(x, y)\n",
    "def gen_num_low_high(x,y, times):\n",
    "    for time in range(times):\n",
    "        yield random.randint(x,y)\n",
    "    \n",
    "# Hardcode N for now but we could ask the users how many times they want\n",
    "N = 20 \n",
    "# Let's ask our users for two numbers \n",
    "n1 = int(input('Low Number: '))\n",
    "n2 = int(input('High Number: '))\n",
    "# Remember if we want the generator to continue instead of resetting we need to set it as a variable/object\n",
    "gen_num = gen_num_low_high(n1,n2,N)\n",
    "\n",
    "# We expect this to print N times of random numbers between n1-n2\n",
    "print(f'Random number in range of: {str(n1)} & {str(n2)}')\n",
    "for _ in range(N):\n",
    "    print(next(gen_num))\n",
    "    "
   ],
   "id": "68d6d94d1ec0bd6e",
   "outputs": [
    {
     "name": "stdout",
     "output_type": "stream",
     "text": [
      "Random number in range of: 6 & 20\n",
      "11\n",
      "13\n",
      "19\n",
      "19\n",
      "8\n",
      "20\n",
      "7\n",
      "8\n",
      "17\n",
      "8\n",
      "8\n",
      "16\n",
      "18\n",
      "6\n",
      "8\n",
      "14\n",
      "6\n",
      "20\n",
      "7\n",
      "18\n"
     ]
    }
   ],
   "execution_count": 21
  },
  {
   "metadata": {},
   "cell_type": "markdown",
   "source": "# 3) N1-N2 using Iterators and Generators (Prime Numbers)\n",
   "id": "c8eb3e24e3b56d19"
  },
  {
   "metadata": {
    "ExecuteTime": {
     "end_time": "2025-01-29T21:19:31.601685Z",
     "start_time": "2025-01-29T21:19:31.593514Z"
    }
   },
   "cell_type": "code",
   "source": [
    "# Let's make a function to find prime numbers within a certain range\n",
    "def prime_num_iterator(n1,n2):\n",
    "    # Loop over these two numbers (including the last one)\n",
    "    for num in range(n1,n2+1):\n",
    "        # We know that 2 is a Prime number\n",
    "        if num == 2:\n",
    "            print(num, end=' ')\n",
    "        \n",
    "        # Making sure the rest of the numbers are greater than 2 \n",
    "        # Since 0,1 are not prime numbers \n",
    "        if num > 2:\n",
    "            # Usually odd numbers are prime (with some exceptions that we'll deal with later) \n",
    "            if not num % 2 == 0:\n",
    "                # Odd number but we still need to check for other factors \n",
    "                primed = True\n",
    "                # We want to check from 2+ because 1 will always result to true\n",
    "                for fac in range(2,num):\n",
    "                    if num % fac == 0:\n",
    "                        # Break because this is NOT a prime number\n",
    "                        primed = False\n",
    "                        break\n",
    "                \n",
    "                if primed:\n",
    "                    print(num, end=' ')\n",
    "\n",
    "# Example of using iterators where we loop through everything \n",
    "# and print the ones that are prime\n",
    "prime_num_iterator(1,100)"
   ],
   "id": "b6863fd72aa42d0e",
   "outputs": [
    {
     "name": "stdout",
     "output_type": "stream",
     "text": [
      "2 3 5 7 11 13 17 19 23 29 31 37 41 43 47 53 59 61 67 71 73 79 83 89 97 "
     ]
    }
   ],
   "execution_count": 1
  },
  {
   "metadata": {
    "ExecuteTime": {
     "end_time": "2025-01-29T21:38:52.988125Z",
     "start_time": "2025-01-29T21:38:52.981125Z"
    }
   },
   "cell_type": "code",
   "source": [
    "# Let's work on a generator\n",
    "def prime_num_generator(n1,n2):\n",
    "    # Basically the same logic as our iterator except \n",
    "    # this time we yield our values\n",
    "    for num in range(n1,n2+1):\n",
    "        if num == 2:\n",
    "            # Instead of printing we yield \n",
    "            yield num\n",
    "        \n",
    "        if num > 2:\n",
    "            if not num % 2 == 0:\n",
    "                primed = True\n",
    "                for fac in range(2,num):\n",
    "                    if num % fac == 0:\n",
    "                        primed = False\n",
    "                        break\n",
    "                \n",
    "                if primed:\n",
    "                    # Instead of printing we yield \n",
    "                    yield num\n",
    "\n",
    "n1,n2 = 1, 100\n",
    "\n",
    "# Make sure our range doesn't mess up because n2 happened to be smaller\n",
    "max_val = max(n1, n2)\n",
    "min_val = min(n1, n2)\n",
    "\n",
    "# Remember to set to variable\n",
    "gen_num = prime_num_generator(min_val,max_val)\n",
    "\n",
    "# print(next(gen_num))\n",
    "# print(next(gen_num))\n",
    "# print(next(gen_num))\n",
    "# print(next(gen_num))\n",
    "\n",
    "# If we want to check all values, now we loop our generator \n",
    "# If we use next() it might bring up a \"StopIteration\" error \n",
    "for num in gen_num:\n",
    "    print(num, end=' ')\n"
   ],
   "id": "189c989c98c07016",
   "outputs": [
    {
     "name": "stdout",
     "output_type": "stream",
     "text": [
      "2 3 5 7 11 13 17 19 23 29 31 37 41 43 47 53 59 61 67 71 73 79 83 89 97 "
     ]
    }
   ],
   "execution_count": 11
  },
  {
   "metadata": {},
   "cell_type": "markdown",
   "source": [
    "# 4) Inheritance and Polymorphism \n",
    "\n",
    "Person class (parent)\n",
    "- Student (sub) \n",
    "- Employee (sub)\n",
    "    - Faculty (sub)\n",
    "    - Staff (sub)\n",
    "\n",
    "--- \n",
    "\n",
    "- [x] Person class with *name, address, phone number, and email* \n",
    "- [x] Student class with status as **constant**\n",
    "- [x] Employee *office, salary, date hired*\n",
    "- [x] Faculty member with *office hours and rank*\n",
    "- [x] Staff member with *title*\n",
    "- [x] Override `__rep__` to display: *class name and person's name*\n",
    "- [x] Create objects for each class"
   ],
   "id": "5d15c2b22ec2c14e"
  },
  {
   "metadata": {
    "ExecuteTime": {
     "end_time": "2025-01-29T22:33:38.964446Z",
     "start_time": "2025-01-29T22:33:38.953316Z"
    }
   },
   "cell_type": "code",
   "source": [
    "class Person:\n",
    "    # Init with attributes \n",
    "    def __init__(self, name, address, phone_number, email_address):\n",
    "        self.name = name \n",
    "        self.address = address\n",
    "        self.phone_number = phone_number\n",
    "        self.email_address = email_address\n",
    "    \n",
    "    # repr() function override \n",
    "    def __repr__(self):\n",
    "        return f'Person(name=\"{self.name}\")'\n",
    "\n",
    "# Student Inherits from Person\n",
    "class Student(Person):\n",
    "    # Class Status CONSTANT\n",
    "    CLASS_FRESHMAN = 'Freshman'\n",
    "    CLASS_SOPHOMORE = 'Sophomore'\n",
    "    CLASS_JUNIOR = 'Junior'\n",
    "    CLASS_SENIOR = 'Senior'\n",
    "    \n",
    "    # Make sure we use super() to grab the attributes from Person \n",
    "    def __init__(self, name, address, phone_number, email_address, class_status):\n",
    "        # Person Parent class \n",
    "        super().__init__(name, address, phone_number, email_address)\n",
    "        all_class_status = [self.CLASS_FRESHMAN, self.CLASS_SOPHOMORE, self.CLASS_JUNIOR, self.CLASS_SENIOR]\n",
    "        # I'm assuming we'll use the class constant as a way to check the input value\n",
    "        print(all_class_status)\n",
    "        if class_status in all_class_status:\n",
    "            self.class_status = class_status\n",
    "        else:\n",
    "            print('Please choose a valid class status')\n",
    "    \n",
    "    # repr() function override \n",
    "    def __repr__(self):\n",
    "        return f'Student(name=\"{self.name}\")'\n",
    "    \n",
    "# Employee Inherits from Person \n",
    "class Employee(Person):\n",
    "    \n",
    "    # Again we're inheriting from Parent \n",
    "    def __init__(self, name, address, phone_number, email_address, office, salary, date_hired):\n",
    "        super().__init__(name, address, phone_number, email_address)\n",
    "        self.office = office\n",
    "        self.salary = salary\n",
    "        self.date_hired = date_hired\n",
    "        \n",
    "    # repr() function override \n",
    "    def __repr__(self):\n",
    "        return f'Employee(name=\"{self.name}\")'\n",
    "\n",
    "class Faculty(Employee):\n",
    "    \n",
    "    # We're inherting from Employee; however, we still need to supply the data for Person class as well\n",
    "    def __init__(self, name, address, phone_number, email_address, office, salary, date_hired, office_hours, rank):\n",
    "        super().__init__(name, address, phone_number, email_address, office, salary, date_hired)\n",
    "        self.office_hours = office_hours\n",
    "        self.rank = rank\n",
    "    \n",
    "    # repr() function override \n",
    "    def __repr__(self):\n",
    "        return f'Faculty(name=\"{self.name}\")'\n",
    "    \n",
    "class Staff(Employee):\n",
    "    \n",
    "    # We're inherting from Employee; however, we still need to supply the data for Person class as well\n",
    "    def __init__(self, name, address, phone_number, email_address, office, salary, date_hired, title):\n",
    "        super().__init__(name, address, phone_number, email_address, office, salary, date_hired)\n",
    "        self.title = title\n",
    "    \n",
    "    # repr() function override \n",
    "    def __repr__(self):\n",
    "        return f'Staff(name=\"{self.name}\")'\n",
    "    "
   ],
   "id": "cd988a2bf1a96d17",
   "outputs": [],
   "execution_count": 19
  },
  {
   "metadata": {
    "ExecuteTime": {
     "end_time": "2025-01-29T22:52:48.516762Z",
     "start_time": "2025-01-29T22:52:48.504389Z"
    }
   },
   "cell_type": "code",
   "source": [
    "# Dummy Data\n",
    "dd = {\n",
    "    'name': 'Justin',\n",
    "    'address': '123 Main Street',\n",
    "    'phone_number': '555-555-5555',\n",
    "    'email_address': 'jdo@example.com',\n",
    "    'class_status': 'Senior',\n",
    "    'office': 'Finance',\n",
    "    'office_hours': '2h',\n",
    "    'rank': 'low-level',\n",
    "    'salary': 10000,\n",
    "    'date_hired': '2021-01-20',\n",
    "    'title': 'Junior',\n",
    "}\n",
    "\n",
    "# Simple testing function to print out all the attributes associated with our class\n",
    "# https://stackoverflow.com/questions/9058305/getting-attributes-of-a-class\n",
    "def test_class(class_obj, class_attr):\n",
    "    for attr in class_attr:\n",
    "        # getattr is similar to the .get() function but for class objects \n",
    "        print(getattr(class_obj, attr), end=' | ')\n",
    "    # Representation \n",
    "    print(repr(class_obj))\n",
    "    print()\n",
    "\n",
    "# Person class Testing \n",
    "# name, address, phone_number, email_address\n",
    "p1 = Person(dd['name'],dd['address'],dd['phone_number'],dd['email_address'])\n",
    "p1_attr = 'name,address,phone_number,email_address'.split(',')\n",
    "test_class(p1, p1_attr)\n",
    "\n",
    "# Student class Testing \n",
    "# name, address, phone_number, email_address, class_status\n",
    "s1 = Student(dd['name'],dd['address'],dd['phone_number'],dd['email_address'], dd['class_status'])\n",
    "s1_attr = 'name,address,phone_number,email_address,class_status'.split(',')\n",
    "test_class(s1, s1_attr)\n",
    "\n",
    "# Employee class Testing \n",
    "# name, address, phone_number, email_address, office, salary, date_hired\n",
    "e1 = Employee(dd['name'],dd['address'],dd['phone_number'],dd['email_address'], dd['office'], dd['salary'], dd['date_hired'])\n",
    "e1_attr = 'name,address,phone_number,email_address,office,salary,date_hired'.split(',')\n",
    "test_class(e1, e1_attr)\n",
    "\n",
    "# Faculty class Testing \n",
    "#  name, address, phone_number, email_address, office, salary, date_hired, office_hours, rank\n",
    "f1 = Faculty(dd['name'],dd['address'],dd['phone_number'],dd['email_address'], dd['office'], dd['salary'], dd['date_hired'], dd['office_hours'], dd['rank'])\n",
    "f1_attr = 'name,address,phone_number,email_address,office,salary,date_hired,office_hours,rank'.split(',')\n",
    "test_class(f1, f1_attr)\n",
    "\n",
    "# Staff class Testing \n",
    "#  name, address, phone_number, email_address, office, salary, date_hired, title\n",
    "st1 = Staff(dd['name'],dd['address'],dd['phone_number'],dd['email_address'], dd['office'], dd['salary'], dd['date_hired'], dd['title'])\n",
    "st1_attr = 'name,address,phone_number,email_address,office,salary,date_hired,title'.split(',')\n",
    "test_class(st1, st1_attr)"
   ],
   "id": "7aef1ceccacb7582",
   "outputs": [
    {
     "name": "stdout",
     "output_type": "stream",
     "text": [
      "Justin | 123 Main Street | 555-555-5555 | jdo@example.com | Person(name=\"Justin\")\n",
      "\n",
      "['Freshman', 'Sophomore', 'Junior', 'Senior']\n",
      "Justin | 123 Main Street | 555-555-5555 | jdo@example.com | Senior | Student(name=\"Justin\")\n",
      "\n",
      "Justin | 123 Main Street | 555-555-5555 | jdo@example.com | Finance | 10000 | 2021-01-20 | Employee(name=\"Justin\")\n",
      "\n",
      "Justin | 123 Main Street | 555-555-5555 | jdo@example.com | Finance | 10000 | 2021-01-20 | 2h | low-level | Faculty(name=\"Justin\")\n",
      "\n",
      "Justin | 123 Main Street | 555-555-5555 | jdo@example.com | Finance | 10000 | 2021-01-20 | Junior | Staff(name=\"Justin\")\n",
      "\n"
     ]
    }
   ],
   "execution_count": 33
  },
  {
   "metadata": {},
   "cell_type": "markdown",
   "source": [
    "---\n",
    "\n",
    "# Assignment Exception\n",
    "\n",
    "# 1) Exceptions \n",
    "\n",
    "Validate info while instantiating obj using Class from Previous OOP problem"
   ],
   "id": "8001105a84f751cd"
  },
  {
   "metadata": {
    "ExecuteTime": {
     "end_time": "2025-01-30T00:27:39.455662Z",
     "start_time": "2025-01-30T00:27:39.445195Z"
    }
   },
   "cell_type": "code",
   "source": [
    "\"\"\"\n",
    "    We need to use a try except block and print a custom message \n",
    "    It's worth noting that every instantiating object of any of these classes NEED:\n",
    "      - Name (cannot be empty)\n",
    "      - Address (cannot be empty)\n",
    "      - phone_number (follow xxxxxxxxx or (xxx)xxx-xxx or xxx-xxx-xxxx)\n",
    "      - Email (valid email format) (make sure the @ is in there)\n",
    "\"\"\"\n",
    "\n",
    "# VAlidating info while instantiating \n",
    "try:\n",
    "    p2 = Person(phone_number='(999)999-999', email_address='email@addresscom')    # Replicating Error\n",
    "    if p2.phone_number:\n",
    "        # Where we handle phone number format\n",
    "        # xxxxxxxxxx (10x) or (xxx)xxx-xxx or xxx-xxx-xxxx \n",
    "        # We could use Regular Expressions for this or replace all digits with x \n",
    "        valid_format = ['xxxxxxxxxx', '(xxx)xxx-xxx', 'xxx-xxx-xxxx']\n",
    "        # What we'll do is change all the digits into x then compare it to our valid format\n",
    "        # We could check with isdigit() \n",
    "        new_formatted_phone_number = ['x' if num.isdigit() else num for num in p2.phone_number] # If the it's a number we'll change to x if not we'll retain the symbol\n",
    "        # Let's join this string and check if its in our valid_format\n",
    "        if ''.join(new_formatted_phone_number) not in valid_format:\n",
    "            err_msg = \"\"\"Please follow one of the following formats:\n",
    "            xxxxxxxxxx (10x)\n",
    "            (xxx)xxx-xxx \n",
    "            or xxx-xxx-xxxx \n",
    "            \"\"\"\n",
    "            raise ValueError(err_msg)\n",
    "        \n",
    "    if p2.email_address:\n",
    "        # Handle Email Address \n",
    "        # We could use Regular Expression but we'll keep it simple with a required \"@\" and \".\" \n",
    "        # But we'll make sure the @ comes first then . \n",
    "        if '@' in p2.email_address and '.' in p2.email_address:\n",
    "            validate_email = p2.email_address.split('@')[1]\n",
    "            if p2.email_address.count('@') >= 2 or validate_email.count('.') != 1:\n",
    "                raise ValueError('Incorrect Email Format')\n",
    "        else:\n",
    "            raise ValueError('Make sure you have an @ and . in there')\n",
    "except TypeError as e:\n",
    "    # We need to know what data is missing (name, address, phone, email?)\n",
    "    # print(e)  Person.__init__() missing 1 required positional argument: 'name'\n",
    "    print(e)\n",
    "    # We could actually split via \":\" and work with the second half\n",
    "    argument = str(e).split(':')[1]\n",
    "    # Now we have a list of all the arguments that are problematic \n",
    "    required_fields = [\"name\", \"address\", \"phone_number\", \"email_address\"]\n",
    "    for field in required_fields:\n",
    "        if field in argument:\n",
    "            print(f'{field} should not be empty')\n",
    "except ValueError as e:\n",
    "    # For Email or Phone Number formatting issue \n",
    "    print(e)"
   ],
   "id": "3798bfa41bfa4274",
   "outputs": [
    {
     "name": "stdout",
     "output_type": "stream",
     "text": [
      "Person.__init__() missing 2 required positional arguments: 'name' and 'address'\n",
      "name should not be empty\n",
      "address should not be empty\n"
     ]
    }
   ],
   "execution_count": 85
  },
  {
   "metadata": {},
   "cell_type": "markdown",
   "source": [
    "# 2) binaryToDecimal (String binaryString)\n",
    "\n",
    "converts binary string to decimal. implement binaryToDecimal and throw exception if string not binary "
   ],
   "id": "511380bc024886a5"
  },
  {
   "metadata": {
    "ExecuteTime": {
     "end_time": "2025-01-30T03:55:44.284022Z",
     "start_time": "2025-01-30T03:55:44.271661Z"
    }
   },
   "cell_type": "code",
   "source": [
    "# First let's build the binaryToDecimal function \n",
    "def binaryToDecimal(binaryString):\n",
    "    \"\"\"\n",
    "        Binary we need to read from right to left\n",
    "        We should reverse the binary string and loop through it \n",
    "        Each time we:\n",
    "            1) Take the digit multiply by 2 to a power \n",
    "            2) That power will constantly increase\n",
    "    \"\"\"\n",
    "    bString = reversed(binaryString)\n",
    "    power = 0 \n",
    "    answer = 0 \n",
    "    # The idea is (useing 1011) as an example\n",
    "    for digit in  bString:\n",
    "        # Here we could check if the digit is either 1 or 0 (that's binary) \n",
    "        digit = int(digit)\n",
    "        if digit != 1 and digit != 0:\n",
    "            # We raise a problem\n",
    "            raise ValueError('Incorrect Binary String (0 or 1)')\n",
    "        else:\n",
    "            # We'll add the answer to the digit multiplied by 2 to a power\n",
    "            # If we're using 1011: it would be --> (1101) --> (1 * 2^0) + (1 * 2^1) + ... (1*2^3)\n",
    "            answer += (digit * pow(2, power))\n",
    "            # Increasing the power each time \n",
    "            power += 1\n",
    "    return answer\n",
    "\n",
    "# Working function \n",
    "try:\n",
    "    ans = binaryToDecimal('1011')\n",
    "    print(ans)\n",
    "except ValueError as e:\n",
    "    print(e)\n",
    "\n",
    "# Raise error \n",
    "try:\n",
    "    ans = binaryToDecimal('121')\n",
    "    print(ans)\n",
    "except ValueError as e:\n",
    "    print(e)\n",
    "\n"
   ],
   "id": "e06889d0650d0a21",
   "outputs": [
    {
     "name": "stdout",
     "output_type": "stream",
     "text": [
      "11\n",
      "Incorrect Binary String (0 or 1)\n"
     ]
    }
   ],
   "execution_count": 105
  },
  {
   "metadata": {},
   "cell_type": "markdown",
   "source": [
    "# 3) NonIntResultException \n",
    "\n",
    "User defined exception class (**our own exception class**) so we'll be inheriting from BaseException or Exception itself.\n",
    "\n",
    "Dividing two int = **fractional component)\n",
    "\n",
    "\"7 divided by 2 is not an integer\""
   ],
   "id": "c4829c31691c4ed7"
  },
  {
   "metadata": {
    "ExecuteTime": {
     "end_time": "2025-01-30T05:04:39.487984Z",
     "start_time": "2025-01-30T05:04:39.478680Z"
    }
   },
   "cell_type": "code",
   "source": [
    "# My custom exception \n",
    "class DivisionException(Exception):\n",
    "    # Here's a constructor that takes in a message\n",
    "    def __init__(self, int1, int2):\n",
    "        self.division_err_msg = f'{int2} divided by {int1} is not an integer'\n",
    "        \n",
    "def divide_int(int1,int2):\n",
    "    ans = int2 / int1\n",
    "    \n",
    "    if ans > int(ans):\n",
    "        # That means there's a decimal value in there; therefore, we raise our custom Exception \n",
    "        raise DivisionException(int1, int2)\n",
    "    else:\n",
    "         return ans\n",
    "\n",
    "# Custom Division Error Handling\n",
    "try:\n",
    "    division_ans = divide_int(2,7)\n",
    "    print(division_ans)\n",
    "except DivisionException as e:\n",
    "    print(e.division_err_msg)\n",
    "      \n",
    "# Working Function \n",
    "try:\n",
    "    division_ans = divide_int(2,8)\n",
    "    print(division_ans)\n",
    "except DivisionException as e:\n",
    "    print(e.division_err_msg)"
   ],
   "id": "715f625f4ecf3486",
   "outputs": [
    {
     "name": "stdout",
     "output_type": "stream",
     "text": [
      "7 divided by 2 is not an integer\n",
      "4.0\n"
     ]
    }
   ],
   "execution_count": 112
  },
  {
   "metadata": {},
   "cell_type": "code",
   "outputs": [],
   "execution_count": null,
   "source": "",
   "id": "7c897827068a53d"
  }
 ],
 "metadata": {
  "kernelspec": {
   "display_name": "Python 3",
   "language": "python",
   "name": "python3"
  },
  "language_info": {
   "codemirror_mode": {
    "name": "ipython",
    "version": 2
   },
   "file_extension": ".py",
   "mimetype": "text/x-python",
   "name": "python",
   "nbconvert_exporter": "python",
   "pygments_lexer": "ipython2",
   "version": "2.7.6"
  }
 },
 "nbformat": 4,
 "nbformat_minor": 5
}
