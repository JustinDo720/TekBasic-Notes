{
 "cells": [
  {
   "metadata": {},
   "cell_type": "markdown",
   "source": "# January 29 Notes",
   "id": "6024279de1954db9"
  },
  {
   "metadata": {},
   "cell_type": "markdown",
   "source": [
    "# Python String Interpolation\n",
    "\n",
    "**F** string `f'{}'`\n",
    "\n",
    "`\"{0} {1}\".format(var1,var2)`\n",
    "\n",
    "`\"%s %d\" % (name,age)`  %s for string %d for d\n",
    "\n",
    "```\n",
    "from string import Template \n",
    "\n",
    "temp = Template(\"Hello, my name is $name and I am $age years old\")\n",
    "message = temp.substitute(name=name, age=age)\n",
    "print(message) \n",
    "\n",
    "```\n",
    "\n",
    "---\n",
    "\n",
    "# String Functions \n",
    "\n",
    "`dir(string_var)` will show us all the functions name \n",
    "`.tite()`"
   ],
   "id": "9775c618b7ca34e1"
  },
  {
   "cell_type": "code",
   "id": "initial_id",
   "metadata": {
    "collapsed": true,
    "ExecuteTime": {
     "end_time": "2025-01-29T15:56:26.312974Z",
     "start_time": "2025-01-29T15:56:26.300063Z"
    }
   },
   "source": [
    "name = 'Justin'\n",
    "age = 20\n",
    "\n",
    "msg = f'Hello my name is {name} and I am {age} years old.'\n",
    "print(msg)\n",
    "\n",
    "msg1 = 'Hello, my name is {0} and I am {1} years old.'.format(name,age)\n",
    "msg1"
   ],
   "outputs": [
    {
     "name": "stdout",
     "output_type": "stream",
     "text": [
      "Hello my name is Justin and I am 20 years old.\n"
     ]
    },
    {
     "data": {
      "text/plain": [
       "'Hello, my name is Justin and I am 20 years old.'"
      ]
     },
     "execution_count": 2,
     "metadata": {},
     "output_type": "execute_result"
    }
   ],
   "execution_count": 2
  },
  {
   "metadata": {},
   "cell_type": "markdown",
   "source": [
    "# Python Hashmap \n",
    "\n",
    "**Dictionaries** \n",
    "\n",
    "```python\n",
    "\n",
    "d = {\n",
    "    \"name\": \"Justin\",\n",
    "    \"age\": 100\n",
    "}\n",
    "\n",
    "d[\"name\"] = \"Thy\"\n",
    "d[\"age\"] = 99\n",
    "\n",
    "# Removing Key\n",
    "d.pop('name')\n",
    "\n",
    "# Pop the final element\n",
    "item = d.popitem()\n",
    " \n",
    "# Remove all keys\n",
    "d.clear()\n",
    "\n",
    "# Access all keys \n",
    "d.keys()\n",
    "\n",
    "# Access all values \n",
    "d.values()\n",
    "\n",
    "# Key:Values tuple pair \n",
    "d.items() \n",
    "\n",
    "```\n",
    "\n",
    "---\n",
    "\n",
    "### Dictionary merge \n",
    "\n",
    "`d1` and `d` dictionary, we could merge these two: `d2 = d | d1` (**Shallow Copy**)\n",
    "\n",
    "\n",
    "**Shallow** vs **Deep** Copy\n",
    "\n",
    "Will use **memeory** space to **store data**\n",
    "\n",
    "**Shallow** will copy a **reference** to the same object meaning if you modify the content it will change the **original** mutable. **Deep** copy is **independent** meaning any changes will **not affect the other**.\n"
   ],
   "id": "754a256badeb7fe7"
  },
  {
   "metadata": {
    "ExecuteTime": {
     "end_time": "2025-01-29T16:40:27.136317Z",
     "start_time": "2025-01-29T16:40:27.128293Z"
    }
   },
   "cell_type": "code",
   "source": [
    "d = {\n",
    "    \"name\": \"Justin\",\n",
    "    \"age\": 20,\n",
    "}\n",
    "\n",
    "item = d.popitem()\n",
    "item"
   ],
   "id": "8ead5a2e4745bb36",
   "outputs": [
    {
     "data": {
      "text/plain": [
       "('age', 20)"
      ]
     },
     "execution_count": 6,
     "metadata": {},
     "output_type": "execute_result"
    }
   ],
   "execution_count": 6
  },
  {
   "metadata": {
    "ExecuteTime": {
     "end_time": "2025-01-29T16:32:05.647984Z",
     "start_time": "2025-01-29T16:32:05.643006Z"
    }
   },
   "cell_type": "code",
   "source": [
    "d1 = {\"job\": \"Telecoms\", \"eth\": \"Viet\"}\n",
    "d2 = {\"name\": \"Thy\", \"age\": 29}\n",
    "d3 = d1 | d2\n",
    "# Combines keys\n",
    "print(d3)"
   ],
   "id": "10d05ff5a0ca0720",
   "outputs": [
    {
     "name": "stdout",
     "output_type": "stream",
     "text": [
      "{'job': 'Telecoms', 'eth': 'Viet', 'name': 'Thy', 'age': 29}\n"
     ]
    }
   ],
   "execution_count": 5
  },
  {
   "metadata": {
    "ExecuteTime": {
     "end_time": "2025-01-29T16:50:37.323853Z",
     "start_time": "2025-01-29T16:50:37.318233Z"
    }
   },
   "cell_type": "code",
   "source": [
    "import copy \n",
    "\n",
    "# Shallow vs Deep\n",
    "\n",
    "# Shallow Copy (keeping reference) meaning any changes will change the original list\n",
    "l1 = [[1,2],2,3,4]\n",
    "l2 = copy.copy(l1)\n",
    "print(l1,l2)\n",
    "l1[0][0] = 0\n",
    "l1[0][1] = 0\n",
    "print(l1,l2)\n",
    "\n",
    "print()\n",
    "\n",
    "# Deep Copy \n",
    "l1 = [[1,2],2,3,4]\n",
    "l2 = copy.deepcopy(l1)\n",
    "print(l1,l2)\n",
    "l1[0][0] = 0\n",
    "l1[0][1] = 0\n",
    "print(l1,l2)"
   ],
   "id": "7a9fde1500eb6abb",
   "outputs": [
    {
     "name": "stdout",
     "output_type": "stream",
     "text": [
      "[[1, 2], 2, 3, 4] [[1, 2], 2, 3, 4]\n",
      "[[0, 0], 2, 3, 4] [[0, 0], 2, 3, 4]\n",
      "\n",
      "[[1, 2], 2, 3, 4] [[1, 2], 2, 3, 4]\n",
      "[[0, 0], 2, 3, 4] [[1, 2], 2, 3, 4]\n"
     ]
    }
   ],
   "execution_count": 9
  },
  {
   "metadata": {
    "ExecuteTime": {
     "end_time": "2025-01-29T16:52:07.218633Z",
     "start_time": "2025-01-29T16:52:07.212098Z"
    }
   },
   "cell_type": "code",
   "source": [
    "# This is not a copy\n",
    "l1 = [1,2]\n",
    "l2 = [3,4]\n",
    "l = l1 + l2\n",
    "# Overriding the original list \n",
    "l1 = [2,2]\n",
    "print(l)"
   ],
   "id": "ba7cb76c1dbe3b6e",
   "outputs": [
    {
     "name": "stdout",
     "output_type": "stream",
     "text": [
      "[1, 2, 3, 4]\n"
     ]
    }
   ],
   "execution_count": 10
  },
  {
   "metadata": {},
   "cell_type": "markdown",
   "source": [
    "# Python Function Extra Arguments \n",
    "\n",
    "More using for **overloading** \n",
    "\n",
    "**Unlimited positional arguments** \n",
    "\n",
    "`*args` will give a **tuple**  and we could access via positions\n",
    "\n",
    "```python\n",
    "def myFunc(*args):\n",
    "    print(args)\n",
    "    print(len(args))\n",
    "    print(args[0]) if len(args) > 0 else print()\n",
    "\n",
    "myFunc(1)\n",
    "myFunc()\n",
    "myFunc(1,2,3,4)\n",
    "```\n",
    "\n",
    "**Keyword arguments** \n",
    "\n",
    "`**kwargs` will give a dictionary of keywords \n",
    "\n",
    "```python\n",
    "# Dictionary of keyword arugments\n",
    "def myFunc(**kwargs):\n",
    "    print(kwargs.keys())\n",
    "    print(kwargs.values())\n",
    "    \n",
    "myFunc(a=2, b=3)\n",
    "\n",
    "```\n",
    "\n",
    "---\n",
    "\n",
    "## Python anonymous function \n",
    "\n",
    "`lambda arg1,arg2 : return a + b`\n",
    "\n",
    "**Lambda** is the anonymous function where it takes arguments:return login"
   ],
   "id": "d3acd529c46cdcf"
  },
  {
   "metadata": {
    "ExecuteTime": {
     "end_time": "2025-01-29T17:25:56.878013Z",
     "start_time": "2025-01-29T17:25:56.871859Z"
    }
   },
   "cell_type": "code",
   "source": [
    "add = lambda x,y: x+y\n",
    "print(add(1,2))\n",
    "\n",
    "# But we could call it right away \n",
    "# (lambda a,b:a+b)(2,3) # input arguments \n",
    "print((lambda a,b:a+b)(2,3))\n",
    "\n",
    "(lambda : print('Hello from lambda!'))()\n",
    "\n",
    "# Callback functions --> function used within a function to be called later \n",
    "def function(fn2):\n",
    "    print('Hello from f1')\n",
    "    fn2()\n",
    "\n",
    "# We're passing a callback function within our function \n",
    "# Our lambda is called the callback function \n",
    "print()\n",
    "function(lambda : print('Hello from f2'))"
   ],
   "id": "bc2c8dfe6309dcbe",
   "outputs": [
    {
     "name": "stdout",
     "output_type": "stream",
     "text": [
      "3\n",
      "5\n",
      "Hello from lambda!\n",
      "\n",
      "Hello from f1\n",
      "Hello from f2\n"
     ]
    }
   ],
   "execution_count": 16
  },
  {
   "metadata": {},
   "cell_type": "markdown",
   "source": [
    "# Python Decorator\n",
    "\n",
    "Function calling another function. Provide definition **wrapper** outside another **function**\n",
    "\n",
    "1) Create a **wrapper** function that is returned to the main **decorator** \n",
    "2) use the `@` symbol \n",
    "\n",
    "**Create decorator**\n",
    "1) Takes a **function** as the **parameter**\n",
    "2) Create **wrapper** function inside a decorator\n",
    "3) Run anything **Before** or **After** our **function**\n",
    "4) Return the **Wrapper** to your **decorator** function\n",
    "\n",
    "**Use Decorator**\n",
    "1) on top of your main function `@DecFunction` \n",
    "2) then run your normal function \n",
    "\n"
   ],
   "id": "cf7ab32e7ba537e4"
  },
  {
   "metadata": {
    "ExecuteTime": {
     "end_time": "2025-01-29T17:34:49.050021Z",
     "start_time": "2025-01-29T17:34:49.030170Z"
    }
   },
   "cell_type": "code",
   "source": [
    "# Decorator function \n",
    "def myDec(func):\n",
    "    def wrapper():\n",
    "        print('Before main execution')\n",
    "        func()\n",
    "        print('After Execution ')\n",
    "    return wrapper()\n",
    "\n",
    "@myDec\n",
    "def sayHello():\n",
    "    print('From Hello Function')\n",
    "\n",
    "sayHello()"
   ],
   "id": "5c1f65e09d5413c9",
   "outputs": [
    {
     "name": "stdout",
     "output_type": "stream",
     "text": [
      "Before main execution\n",
      "From Hello Function\n",
      "After Execution \n"
     ]
    },
    {
     "ename": "TypeError",
     "evalue": "'NoneType' object is not callable",
     "output_type": "error",
     "traceback": [
      "\u001B[1;31m---------------------------------------------------------------------------\u001B[0m",
      "\u001B[1;31mTypeError\u001B[0m                                 Traceback (most recent call last)",
      "Cell \u001B[1;32mIn[19], line 14\u001B[0m\n\u001B[0;32m     10\u001B[0m \u001B[38;5;129m@myDec\u001B[39m\n\u001B[0;32m     11\u001B[0m \u001B[38;5;28;01mdef\u001B[39;00m\u001B[38;5;250m \u001B[39m\u001B[38;5;21msayHello\u001B[39m():\n\u001B[0;32m     12\u001B[0m     \u001B[38;5;28mprint\u001B[39m(\u001B[38;5;124m'\u001B[39m\u001B[38;5;124mFrom Hello Function\u001B[39m\u001B[38;5;124m'\u001B[39m)\n\u001B[1;32m---> 14\u001B[0m \u001B[43msayHello\u001B[49m\u001B[43m(\u001B[49m\u001B[43m)\u001B[49m\n",
      "\u001B[1;31mTypeError\u001B[0m: 'NoneType' object is not callable"
     ]
    }
   ],
   "execution_count": 19
  },
  {
   "metadata": {
    "ExecuteTime": {
     "end_time": "2025-01-29T17:39:41.796086Z",
     "start_time": "2025-01-29T17:39:41.790813Z"
    }
   },
   "cell_type": "code",
   "source": [
    "def counter(start):\n",
    "    count = start \n",
    "    def increment():\n",
    "        # Access count outside of the function WITHIN a function\n",
    "        nonlocal count \n",
    "        count += 1\n",
    "        return count \n",
    "    return increment()\n",
    "\n",
    "print(counter(0))"
   ],
   "id": "120f12e8c75c8846",
   "outputs": [
    {
     "name": "stdout",
     "output_type": "stream",
     "text": [
      "1\n"
     ]
    }
   ],
   "execution_count": 22
  },
  {
   "metadata": {},
   "cell_type": "markdown",
   "source": [
    "# Python Generator \n",
    "\n",
    "Generator (Range in list) but only **ONCE**. You cannot reuse it \n",
    "\n",
    "Use anything you loop only 1 time (some calculation) \n",
    "\n",
    "*yield* acts like a *return* where it gives a value (accessible through *next*) depending on the many times you **run**. \n",
    "- return Different Values in Different times\n",
    "\n",
    "`next(generator)` to grab the generator value   "
   ],
   "id": "abbe09580bf2b238"
  },
  {
   "metadata": {
    "ExecuteTime": {
     "end_time": "2025-01-29T17:51:10.453518Z",
     "start_time": "2025-01-29T17:51:10.430873Z"
    }
   },
   "cell_type": "code",
   "source": [
    "def myGenerator():\n",
    "    yield 1    # Stored in Memory\n",
    "    yield 3\n",
    "    yield 5\n",
    "    \n",
    "gen = myGenerator()\n",
    "\n",
    "# We could use next(gen) to loop through \n",
    "print(next(gen))    # Yield 1\n",
    "print(next(gen))    # Yield 3\n",
    "print(next(gen))    # Yield 5\n",
    "\n",
    "print(next(gen))    # This won't work because we've gone through all the yield statements \n",
    "# Only use the generator once, you cannot run a second for loop \n",
    "# for n in gen:\n",
    "#     print(n)\n",
    "#     \n",
    "# for n in gen:\n",
    "#     print(n)"
   ],
   "id": "22675049160e89b",
   "outputs": [
    {
     "name": "stdout",
     "output_type": "stream",
     "text": [
      "1\n",
      "3\n",
      "5\n"
     ]
    },
    {
     "ename": "StopIteration",
     "evalue": "",
     "output_type": "error",
     "traceback": [
      "\u001B[1;31m---------------------------------------------------------------------------\u001B[0m",
      "\u001B[1;31mStopIteration\u001B[0m                             Traceback (most recent call last)",
      "Cell \u001B[1;32mIn[29], line 13\u001B[0m\n\u001B[0;32m     10\u001B[0m \u001B[38;5;28mprint\u001B[39m(\u001B[38;5;28mnext\u001B[39m(gen))    \u001B[38;5;66;03m# Yield 3\u001B[39;00m\n\u001B[0;32m     11\u001B[0m \u001B[38;5;28mprint\u001B[39m(\u001B[38;5;28mnext\u001B[39m(gen))    \u001B[38;5;66;03m# Yield 5\u001B[39;00m\n\u001B[1;32m---> 13\u001B[0m \u001B[38;5;28mprint\u001B[39m(\u001B[38;5;28;43mnext\u001B[39;49m\u001B[43m(\u001B[49m\u001B[43mgen\u001B[49m\u001B[43m)\u001B[49m)\n\u001B[0;32m     14\u001B[0m \u001B[38;5;66;03m# Only use the generator once, you cannot run a second for loop \u001B[39;00m\n\u001B[0;32m     15\u001B[0m \u001B[38;5;66;03m# for n in gen:\u001B[39;00m\n\u001B[0;32m     16\u001B[0m \u001B[38;5;66;03m#     print(n)\u001B[39;00m\n\u001B[0;32m     17\u001B[0m \u001B[38;5;66;03m#     \u001B[39;00m\n\u001B[0;32m     18\u001B[0m \u001B[38;5;66;03m# for n in gen:\u001B[39;00m\n\u001B[0;32m     19\u001B[0m \u001B[38;5;66;03m#     print(n)\u001B[39;00m\n",
      "\u001B[1;31mStopIteration\u001B[0m: "
     ]
    }
   ],
   "execution_count": 29
  },
  {
   "metadata": {
    "ExecuteTime": {
     "end_time": "2025-01-29T17:57:38.382570Z",
     "start_time": "2025-01-29T17:57:38.376116Z"
    }
   },
   "cell_type": "code",
   "source": [
    "def count_to(n):\n",
    "    count = 0 \n",
    "    while count <= n:\n",
    "        yield count\n",
    "        count += 1\n",
    "\n",
    "gen = count_to(5)\n",
    "\n",
    "next(gen)   # 0\n",
    "next(gen)   # 1\n",
    "next(gen)   # 2\n",
    "next(gen)   # 3\n",
    "next(gen)   # 4\n",
    "next(gen)   # Err    \n",
    "next(gen)   # Err\n",
    "next(gen)   # Err"
   ],
   "id": "797c68a970227850",
   "outputs": [
    {
     "data": {
      "text/plain": [
       "4"
      ]
     },
     "execution_count": 34,
     "metadata": {},
     "output_type": "execute_result"
    }
   ],
   "execution_count": 34
  },
  {
   "metadata": {},
   "cell_type": "markdown",
   "source": [
    "# Python Dict Comp\n",
    "\n",
    "We could take a look at **dictionary comp**"
   ],
   "id": "7b5822fe22496bea"
  },
  {
   "metadata": {
    "ExecuteTime": {
     "end_time": "2025-01-29T18:54:23.620599Z",
     "start_time": "2025-01-29T18:54:23.614048Z"
    }
   },
   "cell_type": "code",
   "source": [
    "# Before OOP we could do dictionary comp\n",
    "d = {\n",
    "    \"a\": 1,\n",
    "    \"b\": 2,\n",
    "}\n",
    "\n",
    "# Loop through the key,value using d.items() \n",
    "# We could find the area of a square by ^2 a length \n",
    "new_d = {key:value**2 for key,value in d.items()}\n",
    "new_d\n",
    "\n",
    "# Nested Dictionary \n",
    "d = {\n",
    "    \"a\": 1,\n",
    "    \"b\": {\n",
    "        \"b1\":1,\n",
    "        \"b2\":2,\n",
    "    },\n",
    "}\n",
    "d"
   ],
   "id": "c11420fc69294939",
   "outputs": [
    {
     "data": {
      "text/plain": [
       "{'a': 1, 'b': {'b1': 1, 'b2': 2}}"
      ]
     },
     "execution_count": 38,
     "metadata": {},
     "output_type": "execute_result"
    }
   ],
   "execution_count": 38
  },
  {
   "metadata": {},
   "cell_type": "markdown",
   "source": [
    "# Python Set, NamedTuple\n",
    "\n",
    "set are just Unique Values \n",
    "\n",
    "NamedTuple ==> Define a type name a custom tuple with **fields**"
   ],
   "id": "b345e141a97de355"
  },
  {
   "metadata": {
    "ExecuteTime": {
     "end_time": "2025-01-29T19:02:08.095090Z",
     "start_time": "2025-01-29T19:02:08.089113Z"
    }
   },
   "cell_type": "code",
   "source": [
    "# Set \n",
    "# Empty set \n",
    "s = set()   # Same style as dictionary but empty set isnt: s = {} \n",
    " \n",
    "# Namedtuples\n",
    "from collections import namedtuple\n",
    "Person = namedtuple('Person', ['name', 'age', 'address'])\n",
    "person1 = Person('Justin', '20', 'NY')\n",
    "print(person1)\n",
    "print(person1.name)\n",
    "print(person1.age)\n",
    "print(person1.address)  # Similar to dicitonary just different DS "
   ],
   "id": "a687fb7df5cad2f4",
   "outputs": [
    {
     "name": "stdout",
     "output_type": "stream",
     "text": [
      "Person(name='Justin', age='20', address='NY')\n",
      "Justin\n",
      "20\n",
      "NY\n"
     ]
    }
   ],
   "execution_count": 43
  },
  {
   "metadata": {},
   "cell_type": "markdown",
   "source": [
    "# Python Stacks Queues\n",
    "\n",
    "**Double ended Queues** lets you work with the **left side** as well"
   ],
   "id": "66d7918f3a681867"
  },
  {
   "metadata": {
    "ExecuteTime": {
     "end_time": "2025-01-29T19:04:34.879222Z",
     "start_time": "2025-01-29T19:04:34.873347Z"
    }
   },
   "cell_type": "code",
   "source": [
    "from collections import deque\n",
    "\n",
    "# Double-ended queues \n",
    "dq = deque([1,2,3])\n",
    "dq.append(4)\n",
    "# But double ended queues means we could work on the left to fulfill FIFO \n",
    "dq.appendleft(5)\n",
    "print(dq)\n",
    "\n",
    "# We could pop left and right \n",
    "right = dq.pop()\n",
    "print(right) \n",
    "# Again that FIFO principle \n",
    "left = dq.popleft()\n",
    "print(left)\n",
    "\n",
    "print(dq)"
   ],
   "id": "933de2f9681df978",
   "outputs": [
    {
     "name": "stdout",
     "output_type": "stream",
     "text": [
      "deque([5, 1, 2, 3, 4])\n",
      "4\n",
      "5\n",
      "deque([1, 2, 3])\n"
     ]
    }
   ],
   "execution_count": 47
  },
  {
   "metadata": {},
   "cell_type": "markdown",
   "source": [
    "# Python ChainMap \n",
    "\n",
    "Mainly use to \"chain\" both **dictionaries** without combining them (big dictionary)"
   ],
   "id": "6dfeebd20eb8bb20"
  },
  {
   "metadata": {
    "ExecuteTime": {
     "end_time": "2025-01-29T19:06:36.211032Z",
     "start_time": "2025-01-29T19:06:36.203037Z"
    }
   },
   "cell_type": "code",
   "source": [
    "from collections import ChainMap\n",
    "\n",
    "# Sometimes you don't want to merge two dictionaries because it sgoing to be too big \n",
    "d1 = {\n",
    "    \"a\":1,\n",
    "    \"b\":2\n",
    "}\n",
    "\n",
    "d2 = {\n",
    "    \"c\":3,\n",
    "    \"d\":4\n",
    "}\n",
    "\n",
    "# Chain dictionary because you dont want to combine or make a big dictionary \n",
    "chain = ChainMap(d1,d2)\n",
    "print(chain['a'])\n",
    "chain['c']"
   ],
   "id": "77d38373ac70ed4f",
   "outputs": [
    {
     "name": "stdout",
     "output_type": "stream",
     "text": [
      "1\n"
     ]
    },
    {
     "data": {
      "text/plain": [
       "3"
      ]
     },
     "execution_count": 49,
     "metadata": {},
     "output_type": "execute_result"
    }
   ],
   "execution_count": 49
  },
  {
   "metadata": {},
   "cell_type": "markdown",
   "source": [
    "# Python Counter \n",
    "\n",
    "Keeping track of occurrences of elements. We could find **most commons**"
   ],
   "id": "5782c8e1f8feb917"
  },
  {
   "metadata": {
    "ExecuteTime": {
     "end_time": "2025-01-29T19:10:06.699763Z",
     "start_time": "2025-01-29T19:10:06.694230Z"
    }
   },
   "cell_type": "code",
   "source": [
    "from collections import Counter \n",
    "\n",
    "l = ['a', 'b', 'c', 'd' 'a', 'a', 'b', 'c']\n",
    "cnt = Counter(l)\n",
    "print(cnt)  # All Occurences \n",
    "print(cnt['b'])\n",
    "# The amount of commons like: 3 most common within the Counter \n",
    "print(cnt.most_common(3))"
   ],
   "id": "f9b4728a9d35e20",
   "outputs": [
    {
     "name": "stdout",
     "output_type": "stream",
     "text": [
      "Counter({'a': 2, 'b': 2, 'c': 2, 'da': 1})\n",
      "2\n",
      "[('a', 2), ('b', 2), ('c', 2)]\n"
     ]
    }
   ],
   "execution_count": 56
  },
  {
   "metadata": {},
   "cell_type": "markdown",
   "source": [
    "# Python Ordered Dictionary\n",
    "\n",
    "Ordered Dictionary **keeps track of the order based on index** when adding keys. Python dictionaries in version previous to 3.7, the order wasn't certain"
   ],
   "id": "adfe56a5433e523"
  },
  {
   "metadata": {
    "ExecuteTime": {
     "end_time": "2025-01-29T19:12:09.715214Z",
     "start_time": "2025-01-29T19:12:09.706480Z"
    }
   },
   "cell_type": "code",
   "source": [
    "from collections import OrderedDict\n",
    "\n",
    "od = OrderedDict([('A',1), ('B',2)])    # Keeps the order Keeps track of the order based on index \n",
    "# If we add this it basically goes to the end instead of other places\n",
    "od[\"C\"] = 3 \n",
    "od"
   ],
   "id": "838816465178697e",
   "outputs": [
    {
     "data": {
      "text/plain": [
       "OrderedDict([('A', 1), ('B', 2), ('C', 3)])"
      ]
     },
     "execution_count": 58,
     "metadata": {},
     "output_type": "execute_result"
    }
   ],
   "execution_count": 58
  },
  {
   "metadata": {},
   "cell_type": "markdown",
   "source": [
    "# Python Default Dictionary \n",
    "\n",
    "Sets a **default** return if the *Key doesn't exist*. Usually dictionaries will return a **keyerror** "
   ],
   "id": "2766a77b8b3ba652"
  },
  {
   "metadata": {
    "ExecuteTime": {
     "end_time": "2025-01-29T19:16:16.856924Z",
     "start_time": "2025-01-29T19:16:16.850926Z"
    }
   },
   "cell_type": "code",
   "source": [
    "from collections import defaultdict\n",
    "\n",
    "# Default Dictionary\n",
    "# Pass in the Data Type (str, int, float)\n",
    "dd = defaultdict(int)   # Default return if key doesn't exist\n",
    "print(dd['A']) # We don't have an \"A\" key but we still get a value without errors \n",
    "\n",
    "dd['A'] = 10\n",
    "print(dd['A'])\n"
   ],
   "id": "15fa170dca22ca62",
   "outputs": [
    {
     "name": "stdout",
     "output_type": "stream",
     "text": [
      "0\n",
      "10\n"
     ]
    }
   ],
   "execution_count": 61
  },
  {
   "metadata": {},
   "cell_type": "markdown",
   "source": [
    "# Python OOP\n",
    "\n",
    "Class **blueprint**. Object from that class carries all the attributes from the class that we used"
   ],
   "id": "9c9781c11e1ca1e5"
  },
  {
   "metadata": {
    "ExecuteTime": {
     "end_time": "2025-01-29T19:36:20.994786Z",
     "start_time": "2025-01-29T19:36:20.985575Z"
    }
   },
   "cell_type": "code",
   "source": [
    "# Car Blueprint \n",
    "class Car: \n",
    "    # Requirement because it's used to instantate that class \n",
    "    def __init__(self, make=\"\", model=\"\", year=0):\n",
    "        self.make = make\n",
    "        self.model = model \n",
    "        self.year = year \n",
    "\n",
    "# myCar is an object which is an instance of the Car class\n",
    "myCar = Car('Honda', 'Civik', 2016)\n",
    "print(myCar.make)\n",
    "print(myCar.model)\n",
    "print(myCar.year)\n",
    "\n",
    "# Since we have Car blueprint Initialize function default parameters, we don't need to provide arguments \n",
    "myCar1 = Car()\n",
    "print(myCar1.make)\n",
    "print(myCar1.model)\n",
    "print(myCar1.year)\n",
    "\n",
    "myCar1.year = 2000\n",
    "myCar1.year"
   ],
   "id": "2bb3d741fe3d33e5",
   "outputs": [
    {
     "name": "stdout",
     "output_type": "stream",
     "text": [
      "Honda\n",
      "Civik\n",
      "2016\n",
      "\n",
      "\n",
      "0\n"
     ]
    },
    {
     "data": {
      "text/plain": [
       "2000"
      ]
     },
     "execution_count": 67,
     "metadata": {},
     "output_type": "execute_result"
    }
   ],
   "execution_count": 67
  },
  {
   "metadata": {
    "ExecuteTime": {
     "end_time": "2025-01-29T19:54:24.731255Z",
     "start_time": "2025-01-29T19:54:24.721981Z"
    }
   },
   "cell_type": "code",
   "source": [
    "# We could add actions for the blueprint as well\n",
    "\n",
    "# Car Blueprint \n",
    "class Car: \n",
    "    \n",
    "    def __init__(self, make=\"\", model=\"\", year=0):\n",
    "        self.make = make\n",
    "        self.model = model \n",
    "        self.year = year \n",
    "    \n",
    "    # Method \n",
    "    def getMileage(self):\n",
    "        return self.year * 100\n",
    "    \n",
    "    def __str__(self):\n",
    "        # String form of our class when called upon \n",
    "        return f'{self.make} {self.model} {self.getMileage()}'\n",
    "    \n",
    "    def __repr__(self):\n",
    "        return f'Car Representation: {self.make} {self.model} {self.getMileage()}'\n",
    "    \n",
    "    # Clean up the references \n",
    "    def __del__(self):\n",
    "        # Removing/Cleaning data \n",
    "        self.make = None \n",
    "        del self.model \n",
    "        self.year = 0 \n",
    "        # Once object is removed we trigger this\n",
    "        print('Obj deleted')\n",
    "    \n",
    "myCar = Car('Honda', 'Civik', 2016)\n",
    "print(myCar.getMileage())\n",
    "\n",
    "# Triggering del (triggers the __del__)\n",
    "del myCar\n",
    "\n",
    "myCar = Car('Honda', 'Civik', 2016)\n",
    "# We could print car because of __str__\n",
    "# Human Readable \n",
    "print(myCar)\n",
    "# We could check the representation for dev __repr__\n",
    "# Developer friendly\n",
    "print(repr(myCar))"
   ],
   "id": "46e6d87a2330338d",
   "outputs": [
    {
     "name": "stdout",
     "output_type": "stream",
     "text": [
      "Obj deleted\n",
      "201600\n",
      "Obj deleted\n",
      "Honda Civik 201600\n",
      "Car Representation: Honda Civik 201600\n"
     ]
    }
   ],
   "execution_count": 75
  },
  {
   "metadata": {},
   "cell_type": "code",
   "outputs": [],
   "execution_count": null,
   "source": "",
   "id": "e000fc1a3b9da370"
  }
 ],
 "metadata": {
  "kernelspec": {
   "display_name": "Python 3",
   "language": "python",
   "name": "python3"
  },
  "language_info": {
   "codemirror_mode": {
    "name": "ipython",
    "version": 2
   },
   "file_extension": ".py",
   "mimetype": "text/x-python",
   "name": "python",
   "nbconvert_exporter": "python",
   "pygments_lexer": "ipython2",
   "version": "2.7.6"
  }
 },
 "nbformat": 4,
 "nbformat_minor": 5
}
