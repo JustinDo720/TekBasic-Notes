{
 "cells": [
  {
   "metadata": {},
   "cell_type": "markdown",
   "source": [
    "# ChatGPT execise to review Todays Notes\n",
    "\n"
   ],
   "id": "96ba78bd03c5f5ac"
  },
  {
   "metadata": {},
   "cell_type": "markdown",
   "source": [
    "# OOP\n",
    "\n",
    "We Know the **four pillars of OOP:\n",
    "- **Abstraction** creating a Blueprint with **essential features**\n",
    "- **Encapsulation** **protecting** data. Allowing what's publicly accessible vs privately\n",
    "- **Inheritance** subclasses **inherit** class methods or attributes from the parent \n",
    "- **Polymorphism** many objects can have different **forms** but share the same methods "
   ],
   "id": "7edbde7812c0c054"
  },
  {
   "metadata": {},
   "cell_type": "markdown",
   "source": [
    "# Encapsulation\n",
    "\n",
    "A developer wants to prevent direct access to an object's attributes but still allow controlled access through methods. How can they achieve this in Python? What OOP pillar does this demonstrate?\n",
    "- This pillar is **Encapsulation** the developer prevents direct access by using `_var` or `__var` in front of variables to create private variables. They allow controlled access through **getter** and **setter** methods defined within the class \n",
    "\n",
    "What is the difference between _variable and __variable in Python? How does name mangling affect access to private attributes?\n",
    "- The main difference here is __variables are more secured because of name mangling. Essentially __variables will have the name of _ClassName__variable when stored in memory "
   ],
   "id": "4de2e66eb8646a2e"
  },
  {
   "metadata": {
    "ExecuteTime": {
     "end_time": "2025-01-30T20:28:05.877601Z",
     "start_time": "2025-01-30T20:28:05.868844Z"
    }
   },
   "cell_type": "code",
   "source": [
    "# How can you access __name from outside the class?\n",
    "class Person:\n",
    "    def __init__(self, name, age):\n",
    "        self.__name = name\n",
    "        self.__age = age\n",
    "        \n",
    "    # We need to make a getter method \n",
    "    def get_name(self):\n",
    "        return self.__name\n",
    "    \n",
    "p = Person('John', 23)\n",
    "p.get_name()"
   ],
   "id": "3073e34230e067bc",
   "outputs": [
    {
     "data": {
      "text/plain": [
       "'John'"
      ]
     },
     "execution_count": 1,
     "metadata": {},
     "output_type": "execute_result"
    }
   ],
   "execution_count": 1
  },
  {
   "metadata": {},
   "cell_type": "markdown",
   "source": [
    "# Inheritnace \n",
    "\n",
    "What is the difference between single inheritance and multiple inheritance? Provide an example.\n",
    "- Single Inheritance inherits methods and attributes from one singluar parent \n",
    "- Multiple Inheritnace must follow **MRO** \n",
    "\n",
    "If ChildClass inherits from ParentClass, but we override a method from ParentClass, what will happen when we call that method on ChildClass?\n",
    "- If we override the method from ParentClass and call the method on ChildClass it will run that new method **IN** the child class\n"
   ],
   "id": "b8a44dfcd7d392e2"
  },
  {
   "metadata": {
    "ExecuteTime": {
     "end_time": "2025-01-30T20:35:08.581727Z",
     "start_time": "2025-01-30T20:35:08.574728Z"
    }
   },
   "cell_type": "code",
   "source": [
    "# A company wants to create a Vehicle class and then extend it into Car and Motorcycle subclasses. How would you design this using inheritance?\n",
    "class Vehicle:\n",
    "    # Constructor \n",
    "    def __init__(self, owner_name):\n",
    "        self.__owner_name = owner_name\n",
    "    \n",
    "    def get_owner_name(self):\n",
    "        return self.__owner_name\n",
    "    \n",
    "\n",
    "class Car(Vehicle):\n",
    "    def __init__(self, owner_name, make, model, year):\n",
    "        super().__init__(owner_name)\n",
    "        self.make = make\n",
    "        self.model = model\n",
    "        self.year = year\n",
    "        \n",
    "class Motorcycle(Vehicle):\n",
    "    def __init__(self, owner_name, make, model, year):\n",
    "        super().__init__(owner_name)\n",
    "        self.make = make\n",
    "        self.model = model\n",
    "        self.year = year\n"
   ],
   "id": "3ba03595e764defd",
   "outputs": [],
   "execution_count": 3
  },
  {
   "metadata": {},
   "cell_type": "markdown",
   "source": [
    "# Abstraction \n",
    "\n",
    "A developer wants to create a Shape class with an undefined area method, which should be implemented by subclasses Circle and Rectangle. How would you implement this in Python?\n",
    "(View code on cell below)\n",
    "\n",
    "How does the abc module help in enforcing abstraction?\n",
    "abc module allows us to inherit from the ABC class creating our abstract class. additionally it has abstractmethod which guide our developers to build that important method as it's an essential feature"
   ],
   "id": "297447e2bd2ad883"
  },
  {
   "metadata": {
    "ExecuteTime": {
     "end_time": "2025-01-30T20:40:30.702420Z",
     "start_time": "2025-01-30T20:40:30.692718Z"
    }
   },
   "cell_type": "code",
   "source": [
    "from abc import ABC, abstractmethod\n",
    "\n",
    "# Abstract class \n",
    "class Shape(ABC):\n",
    "    \n",
    "    # Important essential methods \n",
    "    @abstractmethod\n",
    "    def area(self):\n",
    "        pass\n",
    "    \n",
    "    @abstractmethod\n",
    "    def perimeter(self):\n",
    "        pass \n",
    "\n",
    "# We inherit from our Shape Abstract class\n",
    "class Rectangle(Shape):\n",
    "    def __init__(self, w, h):\n",
    "        self.width = w\n",
    "        self.height = h\n",
    "    \n",
    "    # We HAVE to create the abstractmethods (must override or we get an error)\n",
    "    def area(self):\n",
    "        return self.width * self.height\n",
    "\n",
    "    def perimeter(self):\n",
    "        return (self.width + self.height) * 2\n",
    "\n",
    "class Circle(Shape):\n",
    "    def __init__(self, r):\n",
    "        self.radius = r\n",
    "    \n",
    "    def area(self):\n",
    "        return (self.radius**2) * 3.14\n",
    "\n",
    "    def perimeter(self):\n",
    "        return (2*self.radius) * 3.14"
   ],
   "id": "c56b4d18f175609e",
   "outputs": [],
   "execution_count": 4
  },
  {
   "metadata": {},
   "cell_type": "markdown",
   "source": [
    "# Polymorphism \n",
    "\n",
    "A function named describe_animal should work with both Dog and Cat classes, where both classes have a speak method. How does Python allow this kind of behavior?\n",
    "- Python allows this by using `isinstance()` where we check if the obj is part of a certain class and based on that class, runs the speak method. If they're both the same method name `def speak(self)` then we could just run a for loop on the **object** and do `object.speak()`\n",
    "\n",
    "How does method overriding relate to polymorphism in OOP?\n",
    "- By overriding our method, our method becomes dynamic so even if they are different objects that behave differently, they will still share the same method. Thats the main idea of Polymorphism where objects take different forms but share the same functionality."
   ],
   "id": "ef43466aa57e786e"
  },
  {
   "metadata": {},
   "cell_type": "code",
   "outputs": [],
   "execution_count": null,
   "source": "",
   "id": "c1414eb7c9692f70"
  }
 ],
 "metadata": {
  "kernelspec": {
   "display_name": "Python 3",
   "language": "python",
   "name": "python3"
  },
  "language_info": {
   "codemirror_mode": {
    "name": "ipython",
    "version": 2
   },
   "file_extension": ".py",
   "mimetype": "text/x-python",
   "name": "python",
   "nbconvert_exporter": "python",
   "pygments_lexer": "ipython2",
   "version": "2.7.6"
  }
 },
 "nbformat": 4,
 "nbformat_minor": 5
}
