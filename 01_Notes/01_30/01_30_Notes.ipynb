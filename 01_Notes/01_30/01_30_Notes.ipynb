{
 "cells": [
  {
   "metadata": {},
   "cell_type": "markdown",
   "source": [
    "# OOP principles\n",
    "\n",
    "**Encapsulation**\n",
    "Hiding Data from other classes. We have some **information** that no other scope can see. \n",
    "**Protecting** our data for our class to **only** access. \n",
    "\n",
    "**Inheritance**\n",
    "\n",
    "**Abstraction** \n",
    "\n",
    "**Polymorphism**\n",
    "\n",
    "----\n",
    "\n",
    "# Encapsulation\n",
    "\n",
    "**Protect** your data within a class. How do we use **private** and **public** varaibles?\n",
    "\n",
    "Private: `_variable` so something like `self._year`\n",
    "\n",
    "Naming **mangaling** \n",
    "- `self.__year` will end up **updating** your namespace \n",
    "- `obj._Model__variable` so somehing like `obj._Car__year`\n",
    "\n",
    "*Difference?*:\n",
    "- Complier will add the **Model** name when adding `__` as opposed to `_`. It's just more protection.\n",
    "\n",
    "Now we **shouldnt** access our variables *directly* but rather create **methods** for **getter** and **setter**\n",
    "\n",
    "**Private Methods** \n",
    "using the `@property` decorator w/ `_private_method(self)`\n",
    "- Property basically lets us use the **method** as a **property** \n",
    "- Instead of having `.get_make()` we have `.get_make`\n"
   ],
   "id": "d3541f49652b56d6"
  },
  {
   "cell_type": "code",
   "id": "initial_id",
   "metadata": {
    "collapsed": true,
    "ExecuteTime": {
     "end_time": "2025-01-30T16:20:57.441369Z",
     "start_time": "2025-01-30T16:20:57.436260Z"
    }
   },
   "source": [
    "class Car:\n",
    "    \n",
    "    def __init__(self, make, model, year):\n",
    "        self._make = make\n",
    "        self._model = model\n",
    "        self.__year = year\n",
    "        # If there's an author\n",
    "        # self._author = _author_name_converted\n",
    "    \n",
    "    # Kinda enapsulation because people cannot see the properties \n",
    "    def __str__(self):\n",
    "        return f'This car {self._make}, {self._model}, {self.__year}'\n",
    "    \n",
    "    # Getter method (Encapsulation)\n",
    "    def get_make(self):\n",
    "        return self._make\n",
    "    \n",
    "    # Setter method \n",
    "    def set_make(self, make):\n",
    "        self._make = make\n",
    "        return self.get_make()\n",
    "    \n",
    "    # Getter Method\n",
    "    @property\n",
    "    def get_year(self):\n",
    "        # With the protected variable __\n",
    "        # We don't need to _Model__year (_Car__year)\n",
    "        return self.__year\n",
    "        \n",
    "    # Setter Method\n",
    "    def set_year(self, year):\n",
    "        self.__year = year\n",
    "        return self.get_year\n",
    "    \n",
    "    # Private \n",
    "    @property \n",
    "    def _author_name_converted(self):\n",
    "        # Change author name in format\n",
    "        temp = self._author + 'abc'\n",
    "        return temp\n",
    "    \n",
    "myCar = Car('Honda', 'Civik', 2016)\n",
    "# print(myCar)\n",
    "# print(myCar._make)\n",
    "# print(myCar._model)\n",
    "# print(myCar._Car__year)\n",
    "\n",
    "# Getter Function\n",
    "print(myCar.get_make())\n",
    "# Setter Function\n",
    "print(myCar.set_make('Ford'))\n",
    "\n",
    "# Year (Double __ protection) \n",
    "# Getter Function\n",
    "print(myCar.get_year)\n",
    "# Setter Function\n",
    "print(myCar.set_year('2019'))"
   ],
   "outputs": [
    {
     "name": "stdout",
     "output_type": "stream",
     "text": [
      "Honda\n",
      "Ford\n",
      "2016\n",
      "2019\n"
     ]
    }
   ],
   "execution_count": 22
  },
  {
   "metadata": {},
   "cell_type": "markdown",
   "source": [
    "# Abstraction \n",
    "\n",
    "**Abstraction** describes how the **class** should look like by hiding **complex details** just showing the **essential details**. Describing methods and variables (**essential features**)\n",
    "\n",
    "Basically you create an **Abstract class** from **ABC** inheritance \n",
    "- You create **abstractmethod** and pass (You're just defining the **essential details**\n",
    "- Your **Object class** will inherit from **Abstract class** then we **override** the **abstractmethod**\n",
    "- If we don't ovveride our abstract method in the Object class, we'll have an **Error** to remind us to **implement it**"
   ],
   "id": "ac5ba5eb9bff9825"
  },
  {
   "metadata": {
    "ExecuteTime": {
     "end_time": "2025-01-30T16:41:50.335187Z",
     "start_time": "2025-01-30T16:41:50.314858Z"
    }
   },
   "cell_type": "code",
   "source": [
    "# To create an abstract class \n",
    "from abc import ABC, abstractmethod\n",
    "\n",
    "class Shape(ABC):\n",
    "    # Every shape has a perimeter and area \n",
    "    # We're letting people know that we'll implement area if we have a Shape class\n",
    "    @abstractmethod\n",
    "    def area(self):\n",
    "        pass\n",
    "    \n",
    "    @abstractmethod\n",
    "    def perimeter(self):\n",
    "        pass\n",
    "    \n",
    "# Now let's make a Reactangle shape \n",
    "# We're inheriting from our abstract class\n",
    "class Rectangle(Shape):\n",
    "    # Constructor \n",
    "    def __init__(self, width, height):\n",
    "        # Public variable \n",
    "        self.width = width\n",
    "        self.height = height\n",
    "        \n",
    "    # Now we override our abstract method \n",
    "    def area(self):\n",
    "        # Width * Height for Area\n",
    "        return self.width * self.height\n",
    "    \n",
    "    # MUST BUILD THIS\n",
    "    # def perimeter(self):\n",
    "    #     # Length/Height + Width * 2\n",
    "    #     return 2 * (self.width + self.height)\n",
    "\n",
    "\n",
    "rec = Rectangle(5,3)\n",
    "print(rec.area())\n",
    "rec.perimeter()"
   ],
   "id": "47f617e4e25e9863",
   "outputs": [
    {
     "ename": "TypeError",
     "evalue": "Can't instantiate abstract class Rectangle without an implementation for abstract method 'perimeter'",
     "output_type": "error",
     "traceback": [
      "\u001B[1;31m---------------------------------------------------------------------------\u001B[0m",
      "\u001B[1;31mTypeError\u001B[0m                                 Traceback (most recent call last)",
      "Cell \u001B[1;32mIn[26], line 34\u001B[0m\n\u001B[0;32m     27\u001B[0m         \u001B[38;5;28;01mreturn\u001B[39;00m \u001B[38;5;28mself\u001B[39m\u001B[38;5;241m.\u001B[39mwidth \u001B[38;5;241m*\u001B[39m \u001B[38;5;28mself\u001B[39m\u001B[38;5;241m.\u001B[39mheight\n\u001B[0;32m     29\u001B[0m     \u001B[38;5;66;03m# def perimeter(self):\u001B[39;00m\n\u001B[0;32m     30\u001B[0m     \u001B[38;5;66;03m#     # Length/Height + Width * 2\u001B[39;00m\n\u001B[0;32m     31\u001B[0m     \u001B[38;5;66;03m#     return 2 * (self.width + self.height)\u001B[39;00m\n\u001B[1;32m---> 34\u001B[0m rec \u001B[38;5;241m=\u001B[39m \u001B[43mRectangle\u001B[49m\u001B[43m(\u001B[49m\u001B[38;5;241;43m5\u001B[39;49m\u001B[43m,\u001B[49m\u001B[38;5;241;43m3\u001B[39;49m\u001B[43m)\u001B[49m\n\u001B[0;32m     35\u001B[0m \u001B[38;5;28mprint\u001B[39m(rec\u001B[38;5;241m.\u001B[39marea())\n\u001B[0;32m     36\u001B[0m rec\u001B[38;5;241m.\u001B[39mperimeter()\n",
      "\u001B[1;31mTypeError\u001B[0m: Can't instantiate abstract class Rectangle without an implementation for abstract method 'perimeter'"
     ]
    }
   ],
   "execution_count": 26
  },
  {
   "metadata": {},
   "cell_type": "markdown",
   "source": [
    "# Inheritance \n",
    "\n",
    "We Get properties from the Parent function \n",
    "\n",
    "Make sure we use `super().__init__()` to initialize the **Parent** \n",
    "\n",
    "Subclass inherits **attributes and methods** of the parent (Reusability)"
   ],
   "id": "4009c127a75245a9"
  },
  {
   "metadata": {
    "ExecuteTime": {
     "end_time": "2025-01-30T17:03:07.436680Z",
     "start_time": "2025-01-30T17:03:07.430160Z"
    }
   },
   "cell_type": "code",
   "source": [
    "class Shape:\n",
    "    \n",
    "    def __init__(self, name):\n",
    "        self.name = name\n",
    "    \n",
    "    def area(self):\n",
    "        pass\n",
    "    \n",
    "    def perimeter(self):\n",
    "        pass\n",
    "    \n",
    "    def get_geo_type(self):\n",
    "        print('Gen Shape')\n",
    "\n",
    "\n",
    "class Reactangle(Shape):\n",
    "    def __init__(self, width, height):\n",
    "        # Initialize Parent \n",
    "        super().__init__('Reactangle')\n",
    "        self.width = width\n",
    "        self.height = height\n",
    "    \n",
    "    def area(self):\n",
    "        return self.width * self.height\n",
    "    \n",
    "    def perimeter(self):\n",
    "        return (self.width + self.height) * 2\n",
    "\n",
    "rec = Reactangle(5,7)\n",
    "# Name was the Shape (parent) property & get_geo_type are all functions from Shape \n",
    "print(rec.name)\n",
    "rec.get_geo_type()"
   ],
   "id": "27b5fc4f49c780c8",
   "outputs": [
    {
     "name": "stdout",
     "output_type": "stream",
     "text": [
      "Reactangle\n",
      "Gen Shape\n"
     ]
    }
   ],
   "execution_count": 32
  },
  {
   "metadata": {},
   "cell_type": "markdown",
   "source": [
    "# Polymorphism \n",
    "\n",
    "Object can have different **forms**. Object **methods** are the same but **behave differently**."
   ],
   "id": "af4f87264fc4b726"
  },
  {
   "metadata": {
    "ExecuteTime": {
     "end_time": "2025-01-30T17:06:35.003158Z",
     "start_time": "2025-01-30T17:06:34.994796Z"
    }
   },
   "cell_type": "code",
   "source": [
    "class Circle(Shape):\n",
    "    \n",
    "    def __init__(self, radius):\n",
    "        super().__init__('circle')\n",
    "        self.radius = radius\n",
    "    \n",
    "    def area(self):\n",
    "        # Radius Squared * pi \n",
    "        return self.radius**2 * 3.14\n",
    "    \n",
    "    def perimeter(self):\n",
    "        # Radius * 2pi\n",
    "        return self.radius * 2 * 3.14\n",
    "    \n",
    "c = Circle(4)\n",
    "\n",
    "list_of_shapes = [rec,c]\n",
    "\n",
    "# Polymorphism \n",
    "# Even though these are two different objects from two different class \n",
    "# The idea is that our class methods and/or attributes, we treat each object the SAME \n",
    "for shape in list_of_shapes:\n",
    "    # Different objs share the same property \n",
    "    # Name\n",
    "    # Also share the same method \n",
    "    # area() \n",
    "    print(shape.name, shape.area())"
   ],
   "id": "5d94dc25138af159",
   "outputs": [
    {
     "name": "stdout",
     "output_type": "stream",
     "text": [
      "Reactangle 35\n",
      "circle 50.24\n"
     ]
    }
   ],
   "execution_count": 36
  },
  {
   "metadata": {},
   "cell_type": "markdown",
   "source": [
    "# To recap \n",
    "\n",
    "**Abstraction** creating a blueprint with abstract Class and Methods for **essential** features of that class.\n",
    "\n",
    "**Encapsulation** **protecting** your data via private `_var` or protected `__var` with name mangaling \n",
    "\n",
    "**Inheritance** subclass share the same **methods or attributes** as the parent \n",
    "\n",
    "**Polymorphism** different objs share the same **methods**. They have different **forms** behave differently but treat them the **same way**\n",
    "- call the same methods on different objects  "
   ],
   "id": "f53e1caf980155dd"
  },
  {
   "metadata": {
    "ExecuteTime": {
     "end_time": "2025-01-30T17:49:57.100564Z",
     "start_time": "2025-01-30T17:49:57.092289Z"
    }
   },
   "cell_type": "code",
   "source": [
    "# Two different class \n",
    "class Cat:\n",
    "    \n",
    "    def __init__(self):\n",
    "        pass\n",
    "    \n",
    "    def roar(self):\n",
    "        print('Cat says meow')\n",
    "        \n",
    "class Car:\n",
    "    \n",
    "    def __init__(self):\n",
    "        pass\n",
    "    \n",
    "    def noise(self):\n",
    "        print('Car says brrr')\n",
    "        \n",
    "        \n",
    "car = Car() \n",
    "cat = Cat() \n",
    "\n",
    "# Check what obj to call the correct function\n",
    "# Type ducking (depends on the type) --> we check it\n",
    "def make_noise(o):\n",
    "    # Compare isinstance (object and class)\n",
    "    if isinstance(o, Cat):\n",
    "        o.roar()\n",
    "    elif isinstance(o, Car):\n",
    "        o.noise()"
   ],
   "id": "ef10203c9a249783",
   "outputs": [
    {
     "ename": "SyntaxError",
     "evalue": "invalid syntax (715344828.py, line 27)",
     "output_type": "error",
     "traceback": [
      "\u001B[1;36m  Cell \u001B[1;32mIn[37], line 27\u001B[1;36m\u001B[0m\n\u001B[1;33m    elif isinstance(o, Car)::\u001B[0m\n\u001B[1;37m                            ^\u001B[0m\n\u001B[1;31mSyntaxError\u001B[0m\u001B[1;31m:\u001B[0m invalid syntax\n"
     ]
    }
   ],
   "execution_count": 37
  },
  {
   "metadata": {},
   "cell_type": "markdown",
   "source": [
    "# Python MRO \n",
    "\n",
    "Inheritance order: **Method Resolution Order**\n",
    "\n",
    "It's all about `super()` \n",
    "\n",
    "```python\n",
    "\n",
    "class A:\n",
    "    def show(self):\n",
    "        print(\"A\")\n",
    "        \n",
    "class B(A):\n",
    "    def show(self):\n",
    "        print(\"B\")\n",
    "        super().show()  # Calls next in MRO\n",
    "\n",
    "class C(A):\n",
    "    def show(self):\n",
    "        print(\"C\")\n",
    "        super().show()\n",
    "\n",
    "class D(B, C):\n",
    "    def show(self):\n",
    "        print(\"D\")\n",
    "        super().show()\n",
    "\n",
    "d = D()\n",
    "d.show()\n",
    "\n",
    "```\n",
    "\n",
    "D.show() runs first → prints \"D\".\n",
    "\n",
    "super().show() in D.show() follows the MRO, not just the immediate parent.\n",
    "\n",
    "Since D inherits from B first (leftmost), it goes to B.show() → prints \"B\".\n",
    "\n",
    "super().show() in B.show() follows the MRO → goes to C.show() → prints \"C\".\n",
    "\n",
    "super().show() in C.show() follows the MRO → goes to A.show() → prints \"A\"."
   ],
   "id": "f905141de086b5c7"
  },
  {
   "metadata": {},
   "cell_type": "markdown",
   "source": [
    "# Python Generator Recap \n",
    "\n",
    "Generators **lazy loading** where it doesn't immedately put everything inside a **list** like range \n",
    "\n",
    "We `yield` the value inside the **generator function** then set a **variable** to that generator. We could then **loop** that generator instead of a list of range."
   ],
   "id": "7158987e017c2f69"
  },
  {
   "metadata": {},
   "cell_type": "markdown",
   "source": [
    "# Python Regular Expression\n",
    "\n",
    "Provide a pattern within a string (match the pattern, search)\n",
    "- `re.match(pattern,string)` return information about the pattern and a **FIRST** match not all the matches \n",
    "    - Only for the beginning. Catching the beginning of the string \n",
    "- `re.search(pattern,string)` find that pattern within a string \n",
    "    - Throughout the string not just the first (return the **FIRST** occurrence)\n",
    "- `re.findall(patter,string)` list of all the pattern within that string\n",
    "    - All the matches \n",
    "\n",
    "So Essentially...\n",
    "- Match looks at the very **beginning** of the string \n",
    "- Search looks for the **FIRST** occurrence \n",
    "- FindAll looks for **EVERYTHING** "
   ],
   "id": "33702fd0bddc381a"
  },
  {
   "metadata": {
    "ExecuteTime": {
     "end_time": "2025-01-30T18:29:05.401836Z",
     "start_time": "2025-01-30T18:29:05.394130Z"
    }
   },
   "cell_type": "code",
   "source": [
    "# Importing Regular Expression \n",
    "import re \n",
    "\n",
    "\n",
    "# Creating that pattern \n",
    "pattern = r'hello'\n",
    "\n",
    "# Matching the pattern inside a string \n",
    "# Remember its only the FIRST match \n",
    "result = re.match(pattern, 'hello world hello')\n",
    "if result:\n",
    "    # Match object \n",
    "    print(result)\n",
    "    # Group for the match\n",
    "    print(result.group())\n",
    "    # Span for the location\n",
    "    print(result.span())\n",
    "\n",
    "print()\n",
    "\n",
    "# Return the first ouccurrence ANYWHERE in the string \n",
    "result = re.search(pattern, 'world hello')\n",
    "if result:\n",
    "    # Match object \n",
    "    print(result)\n",
    "    # Group for the match\n",
    "    print(result.group())\n",
    "    # Span for the location\n",
    "    print(result.span())\n",
    "\n",
    "print()\n",
    "\n",
    "# Return all occurrences AN\n",
    "result = re.findall(pattern, 'hello world hello, hello')\n",
    "if result:\n",
    "    # Match object \n",
    "    print(result)"
   ],
   "id": "ed6f30f7f6753925",
   "outputs": [
    {
     "name": "stdout",
     "output_type": "stream",
     "text": [
      "<re.Match object; span=(0, 5), match='hello'>\n",
      "hello\n",
      "(0, 5)\n",
      "\n",
      "<re.Match object; span=(6, 11), match='hello'>\n",
      "hello\n",
      "(6, 11)\n",
      "\n",
      "['hello', 'hello', 'hello']\n"
     ]
    }
   ],
   "execution_count": 51
  },
  {
   "metadata": {},
   "cell_type": "markdown",
   "source": [
    "# How do we construct the Regex Pattern\n",
    "\n",
    "**Character Classes**\n",
    "\n",
    "*Searching* -> `[]`\n",
    "*Searching Range/chars* -> `[a-z]` `[0-9]`\n",
    "\n",
    "`.` Single Letter or characters\n",
    "\n",
    "`+` Many letter or characters\n",
    "- Groups of letter or characters\n",
    "\n",
    "`{n}` n represents the AMOUNT that we're looking for\n",
    "\n",
    "`|` or\n",
    "\n",
    "`^` For the beginning \n",
    "\n",
    "`$` For the end of the string \n",
    "\n",
    "If you want to catch the `.` as a special string we need to do `\\.`\n",
    "\n",
    "`\\w` - any letters\n",
    "\n",
    "`\\d` - any digits \n",
    "\n",
    "So let's take a look at validating email:\n",
    "\n",
    "`pattern = r'[a-zA-Z0-9_.+-]+@[a-zA-Z]+\\.[a-zA-Z]+'`\n",
    "Example email:\n",
    "    **admin@gmail.com**\n",
    "\n",
    "`[a-zA-Z0-9_.+-]+` This means we're accepting **one or more** (+) values of lower and upper a-z any digits from 0-9 special characters like _ . + -\n",
    "`@` Literal @ character \n",
    "`[a-zA-Z]+` means lower and upper a-z **one or more times**\n",
    "`\\.` is the literal . Character \n",
    "`[a-zA-z]+` means lower and upper a-z **one or more times**\n"
   ],
   "id": "323eede0352162eb"
  },
  {
   "metadata": {
    "ExecuteTime": {
     "end_time": "2025-01-30T18:54:05.049285Z",
     "start_time": "2025-01-30T18:54:05.043002Z"
    }
   },
   "cell_type": "code",
   "source": [
    "# Remember about the r \n",
    "## . catches everything\n",
    "# pattern = r'.'\n",
    "## One or more digits \n",
    "# pattern = r'[0-9]+'\n",
    "## Specifically 3 digits \n",
    "# pattern = r'[0-9]{3}'\n",
    "## Catches lower & uppercase a-z but the length of that word has to be 10\n",
    "# pattern = r'[a-zA-Z]{10}'\n",
    "## Catches lower & uppercase a-z 1 or more times OR (|) any digits 1 or more times\n",
    "# pattern = r'[a-zA-Z]+|[0-9]+'\n",
    "# # At the beginning (^) Checking for [a-zA-Z]+ OR (|) Check for [0-9]+ at the end ($)\n",
    "# pattern = r'^[a-zA-Z]+|[0-9]+$'\n",
    "pattern = r'[a-zA-Z0-9_.+-]+@[a-zA-Z]+\\.[a-zA-Z]+'\n",
    "result = re.findall(pattern, 'hello6 world1 hello554 admin@gmail.com JavaScript 12 ')\n",
    "print(result)\n",
    "\n",
    "pattern_phone = r'\\d\\(\\d{3}\\)-\\d{3}-\\d{4}'\n",
    "result = re.findall(pattern_phone, 'hello6 world1 hello554 1(123)-450-5678 admin@gmail.com JavaScript 12')\n",
    "print(result)"
   ],
   "id": "16ed3c319ab51177",
   "outputs": [
    {
     "name": "stdout",
     "output_type": "stream",
     "text": [
      "['admin@gmail.com']\n",
      "['1(123)-450-5678']\n"
     ]
    }
   ],
   "execution_count": 72
  },
  {
   "metadata": {},
   "cell_type": "markdown",
   "source": [
    "# Exceptions \n",
    "\n",
    "You could catch the error for your program to continue running \n",
    "\n",
    "```python\n",
    "\n",
    "try:\n",
    "    # Code here\n",
    "    pass\n",
    "except BaseException as e:\n",
    "    # Handle Error here\n",
    "    pass\n",
    "else:\n",
    "    # Try block pass successfully let's continue \n",
    "    pass\n",
    "finally:\n",
    "    # Regardless of Success/Failure we will ALWAYS run this block\n",
    "    pass\n",
    "\n",
    "```"
   ],
   "id": "45f561628b5d3700"
  },
  {
   "metadata": {
    "ExecuteTime": {
     "end_time": "2025-01-30T19:00:46.405204Z",
     "start_time": "2025-01-30T19:00:46.398910Z"
    }
   },
   "cell_type": "code",
   "source": [
    "try:\n",
    "    a = 1/0\n",
    "except ZeroDivisionError as e:\n",
    "    # We catch the program instead of Breaking and End \n",
    "    print('Div by zero', e)\n",
    "    \n",
    "print(\"Do something after!\")\n",
    "print() \n",
    "\n",
    "#If we dont know the exception name \n",
    "try:\n",
    "    a = 1/0\n",
    "# We could also use BaseException (Parent Exception) of all other Exception\n",
    "except Exception as e:\n",
    "    # We catch the program instead of Breaking and End \n",
    "    print('Div by zero', e)\n",
    "else:\n",
    "    # Else means If everything goes well with the Try Block then we run this code \n",
    "    print(\"Do something after!\")\n",
    "finally:\n",
    "    print('Fail or not we will run this code')"
   ],
   "id": "ea60de964762e812",
   "outputs": [
    {
     "name": "stdout",
     "output_type": "stream",
     "text": [
      "Div by zero division by zero\n",
      "Do something after!\n",
      "\n",
      "Div by zero division by zero\n",
      "Fail or not we will run this code\n"
     ]
    }
   ],
   "execution_count": 78
  },
  {
   "metadata": {},
   "cell_type": "markdown",
   "source": "",
   "id": "f2da9cb70d2b44d3"
  },
  {
   "metadata": {},
   "cell_type": "markdown",
   "source": "",
   "id": "dd9f12a2bbc16583"
  },
  {
   "metadata": {},
   "cell_type": "code",
   "outputs": [],
   "execution_count": null,
   "source": "",
   "id": "8f42323d1d546cf4"
  }
 ],
 "metadata": {
  "kernelspec": {
   "display_name": "Python 3",
   "language": "python",
   "name": "python3"
  },
  "language_info": {
   "codemirror_mode": {
    "name": "ipython",
    "version": 2
   },
   "file_extension": ".py",
   "mimetype": "text/x-python",
   "name": "python",
   "nbconvert_exporter": "python",
   "pygments_lexer": "ipython2",
   "version": "2.7.6"
  }
 },
 "nbformat": 4,
 "nbformat_minor": 5
}
