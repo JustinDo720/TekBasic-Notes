{
 "cells": [
  {
   "metadata": {},
   "cell_type": "markdown",
   "source": [
    "# Review Before Exam\n",
    "\n",
    "---\n",
    "\n",
    "# Topics Day 1\n",
    "\n",
    "### Python Features\n",
    "\n",
    "### Interpreter vs Compiler \n",
    "\n",
    "### Indentation + Line Breaks\n",
    "\n",
    "### Variables \n",
    "\n",
    "### Memory Reference\n",
    "\n",
    "### Encode - Decode UTF8\n",
    "\n",
    "### Operators\n",
    "\n",
    "### Logical Condition \n",
    "\n",
    "### Loop \n",
    "\n",
    "## Control Flow\n",
    "\n",
    "---\n",
    "\n",
    "# Topics Day 2\n",
    "\n",
    "### Python Pass\n",
    "\n",
    "### Functions \n",
    "\n",
    "### Data Collections\n",
    "\n",
    "### Slicing \n",
    "\n",
    "### Sequence "
   ],
   "id": "e6d0026025b41db2"
  },
  {
   "cell_type": "code",
   "execution_count": null,
   "id": "initial_id",
   "metadata": {
    "collapsed": true
   },
   "outputs": [],
   "source": [
    ""
   ]
  }
 ],
 "metadata": {
  "kernelspec": {
   "display_name": "Python 3",
   "language": "python",
   "name": "python3"
  },
  "language_info": {
   "codemirror_mode": {
    "name": "ipython",
    "version": 2
   },
   "file_extension": ".py",
   "mimetype": "text/x-python",
   "name": "python",
   "nbconvert_exporter": "python",
   "pygments_lexer": "ipython2",
   "version": "2.7.6"
  }
 },
 "nbformat": 4,
 "nbformat_minor": 5
}
